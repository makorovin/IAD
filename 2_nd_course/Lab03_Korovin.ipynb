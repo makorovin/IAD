{
 "cells": [
  {
   "cell_type": "markdown",
   "metadata": {},
   "source": [
    "# Лабораторная работа 3. Линейные методы."
   ]
  },
  {
   "cell_type": "code",
   "execution_count": 608,
   "metadata": {
    "collapsed": true
   },
   "outputs": [],
   "source": [
    "import pandas as pd\n",
    "import numpy as np\n",
    "from sklearn.linear_model import LinearRegression, LogisticRegression, Lasso, Ridge, LogisticRegressionCV\n",
    "from sklearn.preprocessing import scale\n",
    "from sklearn.cross_validation import KFold, train_test_split\n",
    "from sklearn.metrics import roc_curve, roc_auc_score, precision_recall_curve, precision_score, auc, accuracy_score, confusion_matrix\n",
    "from sklearn.datasets import load_digits\n",
    "import matplotlib.pylab as plt\n",
    "%matplotlib inline"
   ]
  },
  {
   "cell_type": "code",
   "execution_count": 85,
   "metadata": {
    "collapsed": true
   },
   "outputs": [],
   "source": [
    "import datetime as dte"
   ]
  },
  {
   "cell_type": "code",
   "execution_count": 86,
   "metadata": {
    "collapsed": true
   },
   "outputs": [],
   "source": [
    "data = pd.read_csv('Bikes_rent_day.csv', sep = ',')"
   ]
  },
  {
   "cell_type": "code",
   "execution_count": 135,
   "metadata": {
    "collapsed": false
   },
   "outputs": [
    {
     "data": {
      "text/html": [
       "<div>\n",
       "<table border=\"1\" class=\"dataframe\">\n",
       "  <thead>\n",
       "    <tr style=\"text-align: right;\">\n",
       "      <th></th>\n",
       "      <th>instant</th>\n",
       "      <th>dteday</th>\n",
       "      <th>season</th>\n",
       "      <th>yr</th>\n",
       "      <th>mnth</th>\n",
       "      <th>holiday</th>\n",
       "      <th>weekday</th>\n",
       "      <th>workingday</th>\n",
       "      <th>weathersit</th>\n",
       "      <th>temp</th>\n",
       "      <th>atemp</th>\n",
       "      <th>hum</th>\n",
       "      <th>windspeed</th>\n",
       "      <th>casual</th>\n",
       "      <th>registered</th>\n",
       "      <th>cnt</th>\n",
       "    </tr>\n",
       "  </thead>\n",
       "  <tbody>\n",
       "    <tr>\n",
       "      <th>0</th>\n",
       "      <td>1</td>\n",
       "      <td>2011-01-01</td>\n",
       "      <td>1</td>\n",
       "      <td>0</td>\n",
       "      <td>1</td>\n",
       "      <td>0</td>\n",
       "      <td>6</td>\n",
       "      <td>0</td>\n",
       "      <td>2</td>\n",
       "      <td>0.344167</td>\n",
       "      <td>0.363625</td>\n",
       "      <td>0.805833</td>\n",
       "      <td>0.160446</td>\n",
       "      <td>331</td>\n",
       "      <td>654</td>\n",
       "      <td>985</td>\n",
       "    </tr>\n",
       "    <tr>\n",
       "      <th>1</th>\n",
       "      <td>2</td>\n",
       "      <td>2011-01-02</td>\n",
       "      <td>1</td>\n",
       "      <td>0</td>\n",
       "      <td>1</td>\n",
       "      <td>0</td>\n",
       "      <td>0</td>\n",
       "      <td>0</td>\n",
       "      <td>2</td>\n",
       "      <td>0.363478</td>\n",
       "      <td>0.353739</td>\n",
       "      <td>0.696087</td>\n",
       "      <td>0.248539</td>\n",
       "      <td>131</td>\n",
       "      <td>670</td>\n",
       "      <td>801</td>\n",
       "    </tr>\n",
       "    <tr>\n",
       "      <th>2</th>\n",
       "      <td>3</td>\n",
       "      <td>2011-01-03</td>\n",
       "      <td>1</td>\n",
       "      <td>0</td>\n",
       "      <td>1</td>\n",
       "      <td>0</td>\n",
       "      <td>1</td>\n",
       "      <td>1</td>\n",
       "      <td>1</td>\n",
       "      <td>0.196364</td>\n",
       "      <td>0.189405</td>\n",
       "      <td>0.437273</td>\n",
       "      <td>0.248309</td>\n",
       "      <td>120</td>\n",
       "      <td>1229</td>\n",
       "      <td>1349</td>\n",
       "    </tr>\n",
       "    <tr>\n",
       "      <th>3</th>\n",
       "      <td>4</td>\n",
       "      <td>2011-01-04</td>\n",
       "      <td>1</td>\n",
       "      <td>0</td>\n",
       "      <td>1</td>\n",
       "      <td>0</td>\n",
       "      <td>2</td>\n",
       "      <td>1</td>\n",
       "      <td>1</td>\n",
       "      <td>0.200000</td>\n",
       "      <td>0.212122</td>\n",
       "      <td>0.590435</td>\n",
       "      <td>0.160296</td>\n",
       "      <td>108</td>\n",
       "      <td>1454</td>\n",
       "      <td>1562</td>\n",
       "    </tr>\n",
       "    <tr>\n",
       "      <th>4</th>\n",
       "      <td>5</td>\n",
       "      <td>2011-01-05</td>\n",
       "      <td>1</td>\n",
       "      <td>0</td>\n",
       "      <td>1</td>\n",
       "      <td>0</td>\n",
       "      <td>3</td>\n",
       "      <td>1</td>\n",
       "      <td>1</td>\n",
       "      <td>0.226957</td>\n",
       "      <td>0.229270</td>\n",
       "      <td>0.436957</td>\n",
       "      <td>0.186900</td>\n",
       "      <td>82</td>\n",
       "      <td>1518</td>\n",
       "      <td>1600</td>\n",
       "    </tr>\n",
       "  </tbody>\n",
       "</table>\n",
       "</div>"
      ],
      "text/plain": [
       "   instant      dteday  season  yr  mnth  holiday  weekday  workingday  \\\n",
       "0        1  2011-01-01       1   0     1        0        6           0   \n",
       "1        2  2011-01-02       1   0     1        0        0           0   \n",
       "2        3  2011-01-03       1   0     1        0        1           1   \n",
       "3        4  2011-01-04       1   0     1        0        2           1   \n",
       "4        5  2011-01-05       1   0     1        0        3           1   \n",
       "\n",
       "   weathersit      temp     atemp       hum  windspeed  casual  registered  \\\n",
       "0           2  0.344167  0.363625  0.805833   0.160446     331         654   \n",
       "1           2  0.363478  0.353739  0.696087   0.248539     131         670   \n",
       "2           1  0.196364  0.189405  0.437273   0.248309     120        1229   \n",
       "3           1  0.200000  0.212122  0.590435   0.160296     108        1454   \n",
       "4           1  0.226957  0.229270  0.436957   0.186900      82        1518   \n",
       "\n",
       "    cnt  \n",
       "0   985  \n",
       "1   801  \n",
       "2  1349  \n",
       "3  1562  \n",
       "4  1600  "
      ]
     },
     "execution_count": 135,
     "metadata": {},
     "output_type": "execute_result"
    }
   ],
   "source": [
    "data.head()"
   ]
  },
  {
   "cell_type": "code",
   "execution_count": 287,
   "metadata": {
    "collapsed": false
   },
   "outputs": [
    {
     "data": {
      "text/plain": [
       "Index(['instant', 'dteday', 'season', 'yr', 'mnth', 'holiday', 'weekday',\n",
       "       'workingday', 'weathersit', 'temp', 'atemp', 'hum', 'windspeed',\n",
       "       'casual', 'registered', 'cnt'],\n",
       "      dtype='object')"
      ]
     },
     "execution_count": 287,
     "metadata": {},
     "output_type": "execute_result"
    }
   ],
   "source": [
    "data.columns"
   ]
  },
  {
   "cell_type": "code",
   "execution_count": 350,
   "metadata": {
    "collapsed": true
   },
   "outputs": [],
   "source": [
    "X, y = data[data.columns[:-1]], data[data.columns[-1]]"
   ]
  },
  {
   "cell_type": "code",
   "execution_count": 351,
   "metadata": {
    "collapsed": false
   },
   "outputs": [
    {
     "data": {
      "text/plain": [
       "Index(['instant', 'dteday', 'season', 'yr', 'mnth', 'holiday', 'weekday',\n",
       "       'workingday', 'weathersit', 'temp', 'atemp', 'hum', 'windspeed',\n",
       "       'casual', 'registered'],\n",
       "      dtype='object')"
      ]
     },
     "execution_count": 351,
     "metadata": {},
     "output_type": "execute_result"
    }
   ],
   "source": [
    "X.columns"
   ]
  },
  {
   "cell_type": "code",
   "execution_count": 352,
   "metadata": {
    "collapsed": false
   },
   "outputs": [
    {
     "data": {
      "text/plain": [
       "0"
      ]
     },
     "execution_count": 352,
     "metadata": {},
     "output_type": "execute_result"
    }
   ],
   "source": [
    "sum(y!=data.cnt)"
   ]
  },
  {
   "cell_type": "markdown",
   "metadata": {},
   "source": [
    "Исключим признак dteday, поскольку вся информация о днях недели, сезонах и месяцах, необходимая для выявления закономерностей, есть. Кроме того, не имееет смысла считать среднее из даты. Исключим также признаки casual и registry - как напрямую связанные с целевой переменной cnt(cnt=casual+registry)"
   ]
  },
  {
   "cell_type": "code",
   "execution_count": 353,
   "metadata": {
    "collapsed": false
   },
   "outputs": [],
   "source": [
    "X = X.drop(['dteday','registered', 'casual'], axis = 1)"
   ]
  },
  {
   "cell_type": "markdown",
   "metadata": {},
   "source": [
    "Исключим признак instant(данные взяты с UCI, в описании признаков, рекомендованных к использованию в Лабораторной его нет)"
   ]
  },
  {
   "cell_type": "code",
   "execution_count": 354,
   "metadata": {
    "collapsed": true
   },
   "outputs": [],
   "source": [
    "X = X.drop(['instant'], axis = 1)"
   ]
  },
  {
   "cell_type": "code",
   "execution_count": 355,
   "metadata": {
    "collapsed": false
   },
   "outputs": [
    {
     "name": "stdout",
     "output_type": "stream",
     "text": [
      "11\n"
     ]
    },
    {
     "data": {
      "text/plain": [
       "Index(['season', 'yr', 'mnth', 'holiday', 'weekday', 'workingday',\n",
       "       'weathersit', 'temp', 'atemp', 'hum', 'windspeed'],\n",
       "      dtype='object')"
      ]
     },
     "execution_count": 355,
     "metadata": {},
     "output_type": "execute_result"
    }
   ],
   "source": [
    "print(len(X.columns))\n",
    "X.columns"
   ]
  },
  {
   "cell_type": "markdown",
   "metadata": {},
   "source": [
    "\n",
    "Для каждого дня проката известны значения следующих признаков:\n",
    "- season: 1 - весна, 2 - лето, 3 - осень, 4 - зима\n",
    "- yr: 0 - 2011, 1 - 2012\n",
    "- mnth: от 1 до 12 (соответственно январь - декабрь)\n",
    "- holiday: 0 - нет праздника, 1 - есть праздник\n",
    "- weekday: от 0 до 6 (соответственно понедельник - воскресенье)\n",
    "- workingday: 0 - нерабочий день, 1 - рабочий день\n",
    "- workthersit: оценка благоприятности погоды от 1 (чистый, ясный день) до 4 (ливень, туман)\n",
    "- temp: температура в Цельсиях\n",
    "- atemp: температура по ощущениям в Цельсиях\n",
    "- hum: влажность\n",
    "- windspeed(mph): скорость ветра в милях в час\n",
    "- windspeed(ms): скорость ветра в метрах в секунду\n",
    "- cnt: количество арендованных велосипедов (это целевой признак, его мы будем предсказывать)"
   ]
  },
  {
   "cell_type": "code",
   "execution_count": 356,
   "metadata": {
    "collapsed": false
   },
   "outputs": [],
   "source": [
    "XX = X"
   ]
  },
  {
   "cell_type": "markdown",
   "metadata": {},
   "source": [
    "\n",
    "**(0.5 балла)** В начале попробуем посмотреть на признаки. Постройте матрицу коэффициентов корреляции Пирсона между признаками. Для этого можно воспользоваться методом датафрейма corr. Для удобства можно визуализировать ее как hot-map (пример, как это можно сделать, есть в семинаре про визуализацию). Можно ли сказать, что среди признаков есть линейно зависимые? Укажите какие?"
   ]
  },
  {
   "cell_type": "code",
   "execution_count": 357,
   "metadata": {
    "collapsed": false
   },
   "outputs": [
    {
     "data": {
      "text/plain": [
       "<matplotlib.image.AxesImage at 0xf100860>"
      ]
     },
     "execution_count": 357,
     "metadata": {},
     "output_type": "execute_result"
    },
    {
     "data": {
      "image/png": "[encoded data removed]",
      "text/plain": [
       "<matplotlib.figure.Figure at 0xf2782e8>"
      ]
     },
     "metadata": {},
     "output_type": "display_data"
    }
   ],
   "source": [
    "plt.imshow(X.corr(), interpolation='nearest')"
   ]
  },
  {
   "cell_type": "code",
   "execution_count": 358,
   "metadata": {
    "collapsed": false
   },
   "outputs": [
    {
     "name": "stdout",
     "output_type": "stream",
     "text": [
      "Всего 3 коррелирующих между собой признаков\n"
     ]
    },
    {
     "data": {
      "image/png": "[encoded data removed]",
      "text/plain": [
       "<matplotlib.figure.Figure at 0xf286d30>"
      ]
     },
     "metadata": {},
     "output_type": "display_data"
    },
    {
     "data": {
      "image/png": "[encoded data removed]",
      "text/plain": [
       "<matplotlib.figure.Figure at 0xdfba8d0>"
      ]
     },
     "metadata": {},
     "output_type": "display_data"
    },
    {
     "data": {
      "image/png": "[encoded data removed]",
      "text/plain": [
       "<matplotlib.figure.Figure at 0xcfc4550>"
      ]
     },
     "metadata": {},
     "output_type": "display_data"
    },
    {
     "data": {
      "text/plain": [
       "<matplotlib.figure.Figure at 0xcf1bcc0>"
      ]
     },
     "metadata": {},
     "output_type": "display_data"
    }
   ],
   "source": [
    "n_corr_feat = 0\n",
    "corr_feat_list = []\n",
    "pirs_matrix = X.corr()\n",
    "for feature1_num in range(pirs_matrix.shape[0]):\n",
    "    feature1_name = pirs_matrix.columns[feature1_num]\n",
    "    for feature2_num in range(pirs_matrix.shape[0]):\n",
    "        feature2_name = pirs_matrix.columns[feature2_num]\n",
    "        corr_coef = pirs_matrix[feature1_name][feature2_name]\n",
    "        if feature2_num>feature1_num and corr_coef>0.5: #  feature1_num>feature2_num to iterate only one half of the coo matrix\n",
    "            n_corr_feat+=1\n",
    "            for feature in [feature1_name, feature2_name]:\n",
    "                if not feature in corr_feat_list:\n",
    "                    corr_feat_list.append(feature)\n",
    "            plt.scatter(pirs_matrix[feature1_name], pirs_matrix[feature2_name])\n",
    "            plt.xlabel(feature1_name)\n",
    "            plt.ylabel(feature2_name)\n",
    "            plt.title(corr_coef)\n",
    "            plt.figure()\n",
    "print('Всего %d коррелирующих между собой признаков' % (n_corr_feat))"
   ]
  },
  {
   "cell_type": "code",
   "execution_count": 359,
   "metadata": {
    "collapsed": false
   },
   "outputs": [
    {
     "data": {
      "text/plain": [
       "['season', 'mnth', 'weathersit', 'hum', 'temp', 'atemp']"
      ]
     },
     "execution_count": 359,
     "metadata": {},
     "output_type": "execute_result"
    }
   ],
   "source": [
    "corr_feat_list"
   ]
  },
  {
   "cell_type": "code",
   "execution_count": 360,
   "metadata": {
    "collapsed": false
   },
   "outputs": [
    {
     "data": {
      "text/plain": [
       "6"
      ]
     },
     "execution_count": 360,
     "metadata": {},
     "output_type": "execute_result"
    }
   ],
   "source": [
    "len(corr_feat_list)"
   ]
  },
  {
   "cell_type": "markdown",
   "metadata": {},
   "source": [
    "\n",
    "**(0.5 балла)** Выведите средние значения всех признаков. Можно ли сказать, что признаки имеют разный масштаб? В случае положительного ответа стандартизуйте признаки (из признака вычитается среднее и делится на стандартное отклонение), применив функцию scale."
   ]
  },
  {
   "cell_type": "code",
   "execution_count": 361,
   "metadata": {
    "collapsed": false
   },
   "outputs": [
    {
     "data": {
      "text/plain": [
       "season        2.496580\n",
       "yr            0.500684\n",
       "mnth          6.519836\n",
       "holiday       0.028728\n",
       "weekday       2.997264\n",
       "workingday    0.683995\n",
       "weathersit    1.395349\n",
       "temp          0.495385\n",
       "atemp         0.474354\n",
       "hum           0.627894\n",
       "windspeed     0.190486\n",
       "dtype: float64"
      ]
     },
     "execution_count": 361,
     "metadata": {},
     "output_type": "execute_result"
    }
   ],
   "source": [
    "X.mean()"
   ]
  },
  {
   "cell_type": "code",
   "execution_count": 362,
   "metadata": {
    "collapsed": false
   },
   "outputs": [
    {
     "data": {
      "text/plain": [
       "11"
      ]
     },
     "execution_count": 362,
     "metadata": {},
     "output_type": "execute_result"
    }
   ],
   "source": [
    "X.mean().shape[0]"
   ]
  },
  {
   "cell_type": "code",
   "execution_count": 363,
   "metadata": {
    "collapsed": false
   },
   "outputs": [
    {
     "data": {
      "text/plain": [
       "array([[-1.34821315, -1.00136893, -1.60016072, ..., -0.67994602,\n",
       "         1.25017133, -0.38789169],\n",
       "       [-1.34821315, -1.00136893, -1.60016072, ..., -0.74065231,\n",
       "         0.47911298,  0.74960172],\n",
       "       [-1.34821315, -1.00136893, -1.60016072, ..., -1.749767  ,\n",
       "        -1.33927398,  0.74663186],\n",
       "       ..., \n",
       "       [-1.34821315,  0.99863295,  1.58866019, ..., -1.42434419,\n",
       "         0.87839173, -0.85355213],\n",
       "       [-1.34821315,  0.99863295,  1.58866019, ..., -1.49004895,\n",
       "        -1.01566357,  2.06944426],\n",
       "       [-1.34821315,  0.99863295,  1.58866019, ..., -1.54048197,\n",
       "        -0.35406086, -0.46020122]])"
      ]
     },
     "execution_count": 363,
     "metadata": {},
     "output_type": "execute_result"
    }
   ],
   "source": [
    "scale(X)"
   ]
  },
  {
   "cell_type": "code",
   "execution_count": 364,
   "metadata": {
    "collapsed": false
   },
   "outputs": [],
   "source": [
    "if np.any((np.array(X.mean())/np.array(X.mean()).reshape(X.mean().shape[0],1))>=10):\n",
    "    X = scale(X)"
   ]
  },
  {
   "cell_type": "code",
   "execution_count": 365,
   "metadata": {
    "collapsed": false
   },
   "outputs": [
    {
     "data": {
      "text/plain": [
       "(731, 11)"
      ]
     },
     "execution_count": 365,
     "metadata": {},
     "output_type": "execute_result"
    }
   ],
   "source": [
    "X.shape"
   ]
  },
  {
   "cell_type": "markdown",
   "metadata": {},
   "source": [
    "\n",
    "**(1 балл)** Теперь попробуем обучить модель регрессии. Линейные модели реализованы в модуле sklearn.linear_model. Создайте объект LinearRegression с параметрами по умолчанию, обучите его на всех данных X и ответах y, а затем для каждого признака выведите его название (хранятся в после columns исходного датафрейма) и вес (веса хранятся в переменной coef_ класса регрессора)."
   ]
  },
  {
   "cell_type": "code",
   "execution_count": 366,
   "metadata": {
    "collapsed": true
   },
   "outputs": [],
   "source": [
    "LNR = LinearRegression()"
   ]
  },
  {
   "cell_type": "code",
   "execution_count": 367,
   "metadata": {
    "collapsed": false
   },
   "outputs": [
    {
     "data": {
      "text/plain": [
       "LinearRegression(copy_X=True, fit_intercept=True, n_jobs=1, normalize=False)"
      ]
     },
     "execution_count": 367,
     "metadata": {},
     "output_type": "execute_result"
    }
   ],
   "source": [
    "LNR.fit(X,y)"
   ]
  },
  {
   "cell_type": "code",
   "execution_count": 368,
   "metadata": {
    "collapsed": false
   },
   "outputs": [
    {
     "name": "stdout",
     "output_type": "stream",
     "text": [
      "Коэффициент признака season равен 565.87445338\n",
      "Коэффициент признака yr равен 1020.35074609\n",
      "Коэффициент признака mnth равен -134.461991096\n",
      "Коэффициент признака holiday равен -86.6926045155\n",
      "Коэффициент признака weekday равен 138.360292869\n",
      "Коэффициент признака workingday равен 55.9557769436\n",
      "Коэффициент признака weathersit равен -332.695568038\n",
      "Коэффициент признака temp равен 371.140994604\n",
      "Коэффициент признака atemp равен 581.906559001\n",
      "Коэффициент признака hum равен -145.016239461\n",
      "Коэффициент признака windspeed равен -198.070543979\n"
     ]
    },
    {
     "data": {
      "text/plain": [
       "[('yr', 1020.3507460886486),\n",
       " ('atemp', 581.90655900117213),\n",
       " ('season', 565.8744533798872),\n",
       " ('temp', 371.14099460440758),\n",
       " ('weekday', 138.36029286893611),\n",
       " ('workingday', 55.955776943598046),\n",
       " ('holiday', -86.692604515516507),\n",
       " ('mnth', -134.46199109613042),\n",
       " ('hum', -145.0162394610438),\n",
       " ('windspeed', -198.07054397855771),\n",
       " ('weathersit', -332.69556803804289)]"
      ]
     },
     "execution_count": 368,
     "metadata": {},
     "output_type": "execute_result"
    }
   ],
   "source": [
    "importance_dict = {}\n",
    "for i in range(len(XX.columns)):\n",
    "    importance_dict[XX.columns[i]] = LNR.coef_[i]\n",
    "    print('Коэффициент признака',XX.columns[i],'равен', LNR.coef_[i])\n",
    "sorted(importance_dict.items(), key=lambda s: s[1], reverse=True)"
   ]
  },
  {
   "cell_type": "markdown",
   "metadata": {},
   "source": [
    "*Самые важные признаки*"
   ]
  },
  {
   "cell_type": "code",
   "execution_count": 369,
   "metadata": {
    "collapsed": false
   },
   "outputs": [
    {
     "name": "stdout",
     "output_type": "stream",
     "text": [
      "yr 1020.35074609\n",
      "atemp 581.906559001\n",
      "season 565.87445338\n"
     ]
    }
   ],
   "source": [
    "sort_important_feat = sorted(importance_dict.items(), key=lambda s: s[1], reverse=True)\n",
    "for feature, coef in sort_important_feat[:3]:\n",
    "    print(feature, coef)"
   ]
  },
  {
   "cell_type": "markdown",
   "metadata": {},
   "source": [
    "\n",
    "**(2 балла)** Обучите регрессоры Lasso и Ridge с параметрами по умолчанию, выведите значения весов аналогично тому как это делалось ранее и убедитесь, что описанная проблема решена."
   ]
  },
  {
   "cell_type": "markdown",
   "metadata": {},
   "source": [
    "**Lasso**"
   ]
  },
  {
   "cell_type": "code",
   "execution_count": 370,
   "metadata": {
    "collapsed": true
   },
   "outputs": [],
   "source": [
    "L = Lasso()"
   ]
  },
  {
   "cell_type": "code",
   "execution_count": 371,
   "metadata": {
    "collapsed": false
   },
   "outputs": [
    {
     "data": {
      "text/plain": [
       "Lasso(alpha=1.0, copy_X=True, fit_intercept=True, max_iter=1000,\n",
       "   normalize=False, positive=False, precompute=False, random_state=None,\n",
       "   selection='cyclic', tol=0.0001, warm_start=False)"
      ]
     },
     "execution_count": 371,
     "metadata": {},
     "output_type": "execute_result"
    }
   ],
   "source": [
    "L.fit(X,y)"
   ]
  },
  {
   "cell_type": "code",
   "execution_count": 372,
   "metadata": {
    "collapsed": false
   },
   "outputs": [
    {
     "name": "stdout",
     "output_type": "stream",
     "text": [
      "Коэффициент признака season равен 560.241616031\n",
      "Коэффициент признака yr равен 1019.46349407\n",
      "Коэффициент признака mnth равен -128.730627037\n",
      "Коэффициент признака holiday равен -86.1527813337\n",
      "Коэффициент признака weekday равен 137.347893905\n",
      "Коэффициент признака workingday равен 55.2123706414\n",
      "Коэффициент признака weathersit равен -332.369856962\n",
      "Коэффициент признака temp равен 376.36323621\n",
      "Коэффициент признака atemp равен 576.530793505\n",
      "Коэффициент признака hum равен -144.129155003\n",
      "Коэффициент признака windspeed равен -197.13968943\n"
     ]
    },
    {
     "data": {
      "text/plain": [
       "[('yr', 1019.4634940657239),\n",
       " ('atemp', 576.53079350469568),\n",
       " ('season', 560.24161603089988),\n",
       " ('temp', 376.3632362095596),\n",
       " ('weekday', 137.34789390496556),\n",
       " ('workingday', 55.212370641359271),\n",
       " ('holiday', -86.152781333710479),\n",
       " ('mnth', -128.73062703678417),\n",
       " ('hum', -144.12915500344522),\n",
       " ('windspeed', -197.13968943041752),\n",
       " ('weathersit', -332.36985696237701)]"
      ]
     },
     "execution_count": 372,
     "metadata": {},
     "output_type": "execute_result"
    }
   ],
   "source": [
    "importance_dict = {}\n",
    "for i in range(len(XX.columns)):\n",
    "    importance_dict[XX.columns[i]] = L.coef_[i]\n",
    "    print('Коэффициент признака',XX.columns[i],'равен', L.coef_[i])\n",
    "sorted(importance_dict.items(), key=lambda s: s[1], reverse=True)"
   ]
  },
  {
   "cell_type": "code",
   "execution_count": 373,
   "metadata": {
    "collapsed": false
   },
   "outputs": [
    {
     "name": "stdout",
     "output_type": "stream",
     "text": [
      "yr 1019.46349407\n",
      "atemp 576.530793505\n",
      "season 560.241616031\n"
     ]
    }
   ],
   "source": [
    "sort_important_feat = sorted(importance_dict.items(), key=lambda s: s[1], reverse=True)\n",
    "for feature, coef in sort_important_feat[:3]:\n",
    "    print(feature, coef)"
   ]
  },
  {
   "cell_type": "markdown",
   "metadata": {},
   "source": [
    "**Ridge**"
   ]
  },
  {
   "cell_type": "code",
   "execution_count": 374,
   "metadata": {
    "collapsed": true
   },
   "outputs": [],
   "source": [
    "R = Ridge()"
   ]
  },
  {
   "cell_type": "code",
   "execution_count": 375,
   "metadata": {
    "collapsed": false
   },
   "outputs": [
    {
     "data": {
      "text/plain": [
       "Ridge(alpha=1.0, copy_X=True, fit_intercept=True, max_iter=None,\n",
       "   normalize=False, random_state=None, solver='auto', tol=0.001)"
      ]
     },
     "execution_count": 375,
     "metadata": {},
     "output_type": "execute_result"
    }
   ],
   "source": [
    "R.fit(X,y)"
   ]
  },
  {
   "cell_type": "code",
   "execution_count": 376,
   "metadata": {
    "collapsed": false
   },
   "outputs": [
    {
     "name": "stdout",
     "output_type": "stream",
     "text": [
      "Коэффициент признака season равен 563.083004978\n",
      "Коэффициент признака yr равен 1018.95451132\n",
      "Коэффициент признака mnth равен -131.868751248\n",
      "Коэффициент признака holiday равен -86.7453880627\n",
      "Коэффициент признака weekday равен 138.008167991\n",
      "Коэффициент признака workingday равен 55.9067108661\n",
      "Коэффициент признака weathersit равен -332.388526726\n",
      "Коэффициент признака temp равен 386.294189353\n",
      "Коэффициент признака atemp равен 566.518577136\n",
      "Коэффициент признака hum равен -145.015555536\n",
      "Коэффициент признака windspeed равен -198.35702165\n"
     ]
    },
    {
     "data": {
      "text/plain": [
       "[('yr', 1018.9545113222619),\n",
       " ('atemp', 566.51857713590016),\n",
       " ('season', 563.08300497829032),\n",
       " ('temp', 386.29418935349344),\n",
       " ('weekday', 138.00816799103913),\n",
       " ('workingday', 55.906710866091593),\n",
       " ('holiday', -86.745388062666436),\n",
       " ('mnth', -131.86875124812653),\n",
       " ('hum', -145.0155555361755),\n",
       " ('windspeed', -198.35702165023687),\n",
       " ('weathersit', -332.38852672555385)]"
      ]
     },
     "execution_count": 376,
     "metadata": {},
     "output_type": "execute_result"
    }
   ],
   "source": [
    "importance_dict = {}\n",
    "for i in range(len(XX.columns)):\n",
    "    importance_dict[XX.columns[i]] = R.coef_[i]\n",
    "    print('Коэффициент признака',XX.columns[i],'равен', R.coef_[i])\n",
    "sorted(importance_dict.items(), key=lambda s: s[1], reverse=True)"
   ]
  },
  {
   "cell_type": "code",
   "execution_count": 377,
   "metadata": {
    "collapsed": false
   },
   "outputs": [
    {
     "name": "stdout",
     "output_type": "stream",
     "text": [
      "yr 1018.95451132\n",
      "atemp 566.518577136\n",
      "season 563.083004978\n"
     ]
    }
   ],
   "source": [
    "sort_important_feat = sorted(importance_dict.items(), key=lambda s: s[1], reverse=True)\n",
    "for feature, coef in sort_important_feat[:3]:\n",
    "    print(feature, coef)"
   ]
  },
  {
   "cell_type": "markdown",
   "metadata": {},
   "source": [
    "**(1 балл)** Для каждого значения коэффициента регуляризации из alphas создайте регрессор Lasso, указав в качестве параметра соответствующее значение alpha, обучите его на объектах X и ответах y и запишите полученные веса в соответствующую строку матрицы coefs_lasso, а затем проделайте то же самое для регрессора Ridge и переменной coefs_ridge."
   ]
  },
  {
   "cell_type": "code",
   "execution_count": 378,
   "metadata": {
    "collapsed": true
   },
   "outputs": [],
   "source": [
    "alphas = np.arange(1, 500, 50)\n",
    "coefs_lasso = np.zeros((alphas.shape[0], X.shape[1])) # матрица весов размера (число регрессоров) x (число признаков)\n",
    "coefs_ridge = np.zeros((alphas.shape[0], X.shape[1]))"
   ]
  },
  {
   "cell_type": "code",
   "execution_count": 379,
   "metadata": {
    "collapsed": false
   },
   "outputs": [
    {
     "data": {
      "text/plain": [
       "abc.ABCMeta"
      ]
     },
     "execution_count": 379,
     "metadata": {},
     "output_type": "execute_result"
    }
   ],
   "source": [
    "type(Lasso)"
   ]
  },
  {
   "cell_type": "code",
   "execution_count": 380,
   "metadata": {
    "collapsed": false
   },
   "outputs": [],
   "source": [
    "models_L_R = {Lasso:coefs_lasso,Ridge:coefs_ridge}\n",
    "for model in models_L_R:\n",
    "    ##  сохраняем используемую модель не как объект, а как базовый абстрактный класс ABCMeta,\n",
    "    ## чтобы циклично обучать созданный на его основе объект\n",
    "    model_current = model \n",
    "    for alpha_ind in range(alphas.shape[0]):\n",
    "        model = model_current\n",
    "        model = model(alpha=alphas[alpha_ind])\n",
    "        model.fit(X,y)\n",
    "        models_L_R[model_current][alpha_ind] = model.coef_                "
   ]
  },
  {
   "cell_type": "code",
   "execution_count": 381,
   "metadata": {
    "collapsed": false
   },
   "outputs": [
    {
     "data": {
      "text/plain": [
       "(10, 11)"
      ]
     },
     "execution_count": 381,
     "metadata": {},
     "output_type": "execute_result"
    }
   ],
   "source": [
    "coefs_lasso.shape"
   ]
  },
  {
   "cell_type": "code",
   "execution_count": 390,
   "metadata": {
    "collapsed": false
   },
   "outputs": [
    {
     "data": {
      "text/plain": [
       "<matplotlib.text.Text at 0xe02cb38>"
      ]
     },
     "execution_count": 390,
     "metadata": {},
     "output_type": "execute_result"
    },
    {
     "data": {
      "image/png": "[encoded data removed]",
      "text/plain": [
       "<matplotlib.figure.Figure at 0xbb0bef0>"
      ]
     },
     "metadata": {},
     "output_type": "display_data"
    },
    {
     "data": {
      "image/png": "[encoded data removed]",
      "text/plain": [
       "<matplotlib.figure.Figure at 0xcf71588>"
      ]
     },
     "metadata": {},
     "output_type": "display_data"
    }
   ],
   "source": [
    "plt.figure(figsize=(8, 5))\n",
    "for coef, feature in zip(coefs_lasso.T, XX.columns):\n",
    "    plt.plot(alphas, coef, label=feature, color=np.random.rand(3), linewidth = 2)\n",
    "plt.legend(loc=\"upper right\", bbox_to_anchor=(1.4, 0.95))\n",
    "plt.xlabel(\"alpha\")\n",
    "plt.ylabel(\"feature weight\")\n",
    "plt.title(\"Lasso\")\n",
    "\n",
    "plt.figure(figsize=(8, 5))\n",
    "for coef, feature in zip(coefs_ridge.T, XX.columns):\n",
    "    plt.plot(alphas, coef, label=feature, color=np.random.rand(3), linewidth = 2)\n",
    "plt.legend(loc=\"upper right\", bbox_to_anchor=(1.4, 0.95))\n",
    "plt.xlabel(\"alpha\")\n",
    "plt.ylabel(\"feature weight\")\n",
    "plt.title(\"Ridge\")"
   ]
  },
  {
   "cell_type": "code",
   "execution_count": 385,
   "metadata": {
    "collapsed": false
   },
   "outputs": [
    {
     "data": {
      "text/plain": [
       "array([ 0.,  0.,  0., -0.,  0.,  0., -0.,  0.,  0., -0., -0.])"
      ]
     },
     "execution_count": 385,
     "metadata": {},
     "output_type": "execute_result"
    }
   ],
   "source": [
    "L = Lasso(alpha=999999)\n",
    "L.fit(X,y)\n",
    "L.coef_"
   ]
  },
  {
   "cell_type": "code",
   "execution_count": 386,
   "metadata": {
    "collapsed": false
   },
   "outputs": [
    {
     "data": {
      "text/plain": [
       "array([  5.74685887e-14,   8.01969402e-14,   3.96204748e-14,\n",
       "        -9.67210832e-15,   9.54413738e-15,   8.65439406e-15,\n",
       "        -4.20848047e-14,   8.87987250e-14,   8.93041666e-14,\n",
       "        -1.42445216e-14,  -3.31912280e-14])"
      ]
     },
     "execution_count": 386,
     "metadata": {},
     "output_type": "execute_result"
    }
   ],
   "source": [
    "R = Ridge(alpha=9999999999999999999)\n",
    "R.fit(X,y)\n",
    "R.coef_"
   ]
  },
  {
   "cell_type": "markdown",
   "metadata": {},
   "source": [
    "\n",
    "**(2 балла)** Ответьте на вопросы ниже.\n",
    "- Какой регрессор (Ridge или Lasso) агрессивнее уменьшает веса? - Lasso\n",
    "- Что произойдет с весами Lasso, если alpha сделать очень большим? Поясните, почему так происходит. - Веса обнулятся, поскольку Lasso использует L1 норму регуляризации и пространство весов представляет собой ромб(в двумерном случае) и пресечение его с пространством ф-ла качества(эллипс) будет лежать на вершинах ромба при большинстве вариантов расположений эллипса. Один из признаков в двумерном случае, группы признаков в многомерном будут обнуляться.\n",
    "- Можно ли утверждать, что Lasso исключает один из признаков windspeed при любом значении alpha? А Ridge? Lasso исключает при  alpha>=201, Ridge практически не меняет значение\n",
    "- Какой из регрессоров подойдет для отбора неинформативных признаков? Lasso, поскольку такие признаки исключаются"
   ]
  },
  {
   "cell_type": "markdown",
   "metadata": {},
   "source": [
    "# Линейная классификация"
   ]
  },
  {
   "cell_type": "markdown",
   "metadata": {},
   "source": [
    "**(0.2 балла)** Посчитайте сколько различных классов цифр есть в данных, а также сколько в каждом классе содержится объектов."
   ]
  },
  {
   "cell_type": "code",
   "execution_count": 395,
   "metadata": {
    "collapsed": true
   },
   "outputs": [],
   "source": [
    "data = load_digits()"
   ]
  },
  {
   "cell_type": "code",
   "execution_count": 403,
   "metadata": {
    "collapsed": false
   },
   "outputs": [
    {
     "name": "stdout",
     "output_type": "stream",
     "text": [
      "Кол-во классов: 10\n"
     ]
    }
   ],
   "source": [
    "print('Кол-во классов:',len(set(data.target)))"
   ]
  },
  {
   "cell_type": "code",
   "execution_count": 424,
   "metadata": {
    "collapsed": false
   },
   "outputs": [
    {
     "data": {
      "text/plain": [
       "3    183\n",
       "5    182\n",
       "1    182\n",
       "6    181\n",
       "4    181\n",
       "9    180\n",
       "7    179\n",
       "0    178\n",
       "2    177\n",
       "8    174\n",
       "Name: 0, dtype: int64"
      ]
     },
     "execution_count": 424,
     "metadata": {},
     "output_type": "execute_result"
    }
   ],
   "source": [
    "pd.DataFrame(data.target)[0].value_counts()"
   ]
  },
  {
   "cell_type": "code",
   "execution_count": 427,
   "metadata": {
    "collapsed": false
   },
   "outputs": [
    {
     "name": "stdout",
     "output_type": "stream",
     "text": [
      "Классу 0 принадлежит 178 объектов или 9.91 % всех объектов\n",
      "Классу 1 принадлежит 182 объектов или 10.13 % всех объектов\n",
      "Классу 2 принадлежит 177 объектов или 9.85 % всех объектов\n",
      "Классу 3 принадлежит 183 объектов или 10.18 % всех объектов\n",
      "Классу 4 принадлежит 181 объектов или 10.07 % всех объектов\n",
      "Классу 5 принадлежит 182 объектов или 10.13 % всех объектов\n",
      "Классу 6 принадлежит 181 объектов или 10.07 % всех объектов\n",
      "Классу 7 принадлежит 179 объектов или 9.96 % всех объектов\n",
      "Классу 8 принадлежит 174 объектов или 9.68 % всех объектов\n",
      "Классу 9 принадлежит 180 объектов или 10.02 % всех объектов\n"
     ]
    }
   ],
   "source": [
    "for class_number in range(len(set(data.target))):\n",
    "    n_samples_in_class = pd.DataFrame(data.target)[0].value_counts()[class_number]\n",
    "    print('Классу %d принадлежит %d объектов или %.2f %% всех объектов' % \n",
    "          (class_number, n_samples_in_class, float(n_samples_in_class)*100/data.target.shape[0]))"
   ]
  },
  {
   "cell_type": "markdown",
   "metadata": {},
   "source": [
    "\n",
    "Для оценивания качества алгоритма будем использовать отложенную выборку. Воспользуйтесь функцией train_test_split чтобы разделить данные на обучающие и тестовые. Важно, чтобы от перезапуска ваше разбиение не менялось, кроме того соотношение классов между собой соранялось. Для этого вам понадобится установить следующие дополнительные значения у данной функции:\n",
    "- test_size или train_size (любой на выбор) — установите параметр таким образом, чтобы в тестовую выборку попала половина всех примеров\n",
    "- random_state — необходимо задать некоторое число (любое на ваш выбор), чтобы разбиение оставалось фиксированным не зависимо от запуска\n",
    "- stratify — необходимо задать, чтобы соотношение классов в исходной выборке и новых совпадало; для этого нужно передать значение поля target"
   ]
  },
  {
   "cell_type": "code",
   "execution_count": 465,
   "metadata": {
    "collapsed": false
   },
   "outputs": [],
   "source": [
    "X_train, X_test, y_train, y_test = train_test_split(data.data, data.target, test_size = 0.5, random_state=1, stratify=data.target)"
   ]
  },
  {
   "cell_type": "code",
   "execution_count": 466,
   "metadata": {
    "collapsed": false
   },
   "outputs": [
    {
     "data": {
      "text/plain": [
       "(896, 64)"
      ]
     },
     "execution_count": 466,
     "metadata": {},
     "output_type": "execute_result"
    }
   ],
   "source": [
    "X_train.shape"
   ]
  },
  {
   "cell_type": "code",
   "execution_count": 467,
   "metadata": {
    "collapsed": false
   },
   "outputs": [
    {
     "data": {
      "text/plain": [
       "(896,)"
      ]
     },
     "execution_count": 467,
     "metadata": {},
     "output_type": "execute_result"
    }
   ],
   "source": [
    "y_train.shape"
   ]
  },
  {
   "cell_type": "markdown",
   "metadata": {},
   "source": [
    "\n",
    "Для начала будем решать задачу бинарной классификации, а именно попробуем отделить цифру 8 от всех остальных. Создайте новую переменную, которая будет аналогично переменной target (своя для обучающей и тестовой выборки), в которой будет стоять 1, если соответствующая метка \"8\" и -1 в остальных случаях."
   ]
  },
  {
   "cell_type": "code",
   "execution_count": 472,
   "metadata": {
    "collapsed": false
   },
   "outputs": [],
   "source": [
    "yy_train, yy_test = (y_train==8)+0,(y_test==8)+0\n",
    "yy_train[yy_train==0] = -1\n",
    "yy_test[yy_test==0] = -1"
   ]
  },
  {
   "cell_type": "code",
   "execution_count": 475,
   "metadata": {
    "collapsed": false
   },
   "outputs": [
    {
     "name": "stdout",
     "output_type": "stream",
     "text": [
      "True\n",
      "True\n"
     ]
    }
   ],
   "source": [
    "print(sum((y_train==8)+0)-sum((y_train!=8)+0)==sum(yy_train))\n",
    "print(sum((y_test==8)+0)-sum((y_test!=8)+0)==sum(yy_test))"
   ]
  },
  {
   "cell_type": "markdown",
   "metadata": {},
   "source": [
    "\n",
    "**(0.8 балла)** Сколько теперь получилось объектов положительного класса, а сколько — отрицательного? Какая метрика качества из изученных ранее подойдет для данной задачи и почему? Чем плохо использовать, например, Accuracy?"
   ]
  },
  {
   "cell_type": "markdown",
   "metadata": {},
   "source": [
    "- Подойдут метрики precision(точность)-recall(полнота)\n",
    "- accuracy плоха тем, что не учитывает неправильные ответы. Самый примитивный алгоритм, относящий все объекты к одному классу будет иметь долю правильных ответов равной доле положительного класса, т.е даст при несбалансированной выборке ложное представление об эффективности алгоритма"
   ]
  },
  {
   "cell_type": "code",
   "execution_count": 476,
   "metadata": {
    "collapsed": true
   },
   "outputs": [],
   "source": [
    "LGR = LogisticRegression()"
   ]
  },
  {
   "cell_type": "markdown",
   "metadata": {},
   "source": [
    "Для начала зафиксируем схему кросс-валидации: будем использовать кросс-валидацию по 5 блокам. Для этого создайте объект KFold, которому необходимо задать размер выборки (обучающей), а также задать следующие параметры:\n",
    "n_folds — число фолдов (5 в данном случае)\n",
    "random_state — аналогично как было выше"
   ]
  },
  {
   "cell_type": "code",
   "execution_count": 478,
   "metadata": {
    "collapsed": true
   },
   "outputs": [],
   "source": [
    "kfold = KFold(X_train.shape[0],n_folds=5, random_state=1)"
   ]
  },
  {
   "cell_type": "markdown",
   "metadata": {},
   "source": [
    "\n",
    "После этого можно приступить к подбору значения C. Будем перебирать значения по логарифмической шкале, а именно из множества [0.001, 0.01, 0.1, 1.0, 10]. В качестве оптимизируемой метрики выберем AUC-ROC.\n",
    "В sklearn для логистической регрессии это можно сделать, например, следующим способом: воспользоваться классом LogisticRegressionCV. В этом случае вам необходимо задать следующие параметры:\n",
    "- Cs — массив со значениями перебираемых параметров\n",
    "- cv — схему кросс-валидации, с помощью которой будет осуществляться выбор наилучшего\n",
    "- scoring — название способа оценивания качества; в данном случае это roc_auc\n",
    "- random_state\n",
    "\n",
    "Чтобы подобрать оптимальное C, вызовите метод fit.\n",
    "\n",
    "**(2 балла)** Создайте объект класса LogisticRegressionCV, передав в качестве значения параметра Cs список [0.001, 0.01, 0.1, 1.0, 10], а в качестве cv — созданный ранее объект KFold. Обучите данный классификатор. Каким получилось оптимальное значение C?"
   ]
  },
  {
   "cell_type": "code",
   "execution_count": 586,
   "metadata": {
    "collapsed": true
   },
   "outputs": [],
   "source": [
    "Cs = [0.001, 0.01, 0.1, 1.0, 10]"
   ]
  },
  {
   "cell_type": "code",
   "execution_count": 587,
   "metadata": {
    "collapsed": true
   },
   "outputs": [],
   "source": [
    "LGRCV =LogisticRegressionCV(Cs = Cs, cv = kfold, random_state=1,scoring='roc_auc')"
   ]
  },
  {
   "cell_type": "code",
   "execution_count": 588,
   "metadata": {
    "collapsed": false
   },
   "outputs": [
    {
     "data": {
      "text/plain": [
       "LogisticRegressionCV(Cs=[0.001, 0.01, 0.1, 1.0, 10], class_weight=None,\n",
       "           cv=sklearn.cross_validation.KFold(n=896, n_folds=5, shuffle=False, random_state=1),\n",
       "           dual=False, fit_intercept=True, intercept_scaling=1.0,\n",
       "           max_iter=100, multi_class='ovr', n_jobs=1, penalty='l2',\n",
       "           random_state=1, refit=True, scoring='roc_auc', solver='lbfgs',\n",
       "           tol=0.0001, verbose=0)"
      ]
     },
     "execution_count": 588,
     "metadata": {},
     "output_type": "execute_result"
    }
   ],
   "source": [
    "LGRCV.fit(X_train,yy_train)"
   ]
  },
  {
   "cell_type": "code",
   "execution_count": 589,
   "metadata": {
    "collapsed": false
   },
   "outputs": [
    {
     "name": "stdout",
     "output_type": "stream",
     "text": [
      "Оптимальное значение C равно 0.01\n"
     ]
    }
   ],
   "source": [
    "optim_c = LGRCV.C_[0]\n",
    "print('Оптимальное значение C равно',optim_c)"
   ]
  },
  {
   "cell_type": "markdown",
   "metadata": {},
   "source": [
    "\n",
    "Теперь создайте объект класса LogisticRegression со значением C равным оптимальному, найденному выше. Обучите его (используя метод fit), на всей обучающей выборке."
   ]
  },
  {
   "cell_type": "code",
   "execution_count": 590,
   "metadata": {
    "collapsed": true
   },
   "outputs": [],
   "source": [
    "LGR = LogisticRegression(C=optim_c)"
   ]
  },
  {
   "cell_type": "code",
   "execution_count": 591,
   "metadata": {
    "collapsed": false
   },
   "outputs": [
    {
     "data": {
      "text/plain": [
       "LogisticRegression(C=0.01, class_weight=None, dual=False, fit_intercept=True,\n",
       "          intercept_scaling=1, max_iter=100, multi_class='ovr', n_jobs=1,\n",
       "          penalty='l2', random_state=None, solver='liblinear', tol=0.0001,\n",
       "          verbose=0, warm_start=False)"
      ]
     },
     "execution_count": 591,
     "metadata": {},
     "output_type": "execute_result"
    }
   ],
   "source": [
    "LGR.fit(X_train, yy_train)"
   ]
  },
  {
   "cell_type": "markdown",
   "metadata": {},
   "source": [
    "Теперь пришло время посмотреть как полученный классификатор работает на тестовой выборке.\n",
    "\n",
    "**(2 балла)** Для оценивания качества построим ROC и Precision-Recall кривые, а так же посчитаем площадь под ними. Для этого вам нужно сделать следующее:\n",
    "- получите предсказание вероятности принадлежности положительному классу, используя метод predict_proba для тестовой выборки (обратите внимание, что в данном случае этот метод вернет 2 колонки — вероятности принадлежностей каждому классу, вам необходима первая, если считать с нуля).\n",
    "- постройте график, на котором изобразите Precision-Recall кривую, используя функцию precision_recall_curve. Более подробно как построить такой график было рассказано на одном из семинаров. Вычислите площадь под этим графиком.\n",
    "- проделайте аналогичные действия для ROC-кривой (воспользовавшись функцией roc_curve)."
   ]
  },
  {
   "cell_type": "code",
   "execution_count": 592,
   "metadata": {
    "collapsed": true
   },
   "outputs": [],
   "source": [
    "predict = LGR.predict_proba(X_test).transpose()[1]"
   ]
  },
  {
   "cell_type": "code",
   "execution_count": 633,
   "metadata": {
    "collapsed": true
   },
   "outputs": [],
   "source": [
    "precision,recall,smth = precision_recall_curve(yy_test, predict)"
   ]
  },
  {
   "cell_type": "code",
   "execution_count": 649,
   "metadata": {
    "collapsed": false
   },
   "outputs": [
    {
     "data": {
      "text/plain": [
       "[<matplotlib.lines.Line2D at 0x10b25208>]"
      ]
     },
     "execution_count": 649,
     "metadata": {},
     "output_type": "execute_result"
    },
    {
     "data": {
      "image/png": "[encoded data removed]",
      "text/plain": [
       "<matplotlib.figure.Figure at 0x10a9cba8>"
      ]
     },
     "metadata": {},
     "output_type": "display_data"
    }
   ],
   "source": [
    "plt.plot(precision,recall)"
   ]
  },
  {
   "cell_type": "code",
   "execution_count": 647,
   "metadata": {
    "collapsed": false
   },
   "outputs": [
    {
     "name": "stdout",
     "output_type": "stream",
     "text": [
      "Площадь под данной кривой равна 0.847747267864\n"
     ]
    }
   ],
   "source": [
    "print('Площадь под данной кривой равна',auc(recall,precision))"
   ]
  },
  {
   "cell_type": "code",
   "execution_count": 653,
   "metadata": {
    "collapsed": false
   },
   "outputs": [],
   "source": [
    "fpr,tpr,thresholds = roc_curve(yy_test, predict)"
   ]
  },
  {
   "cell_type": "code",
   "execution_count": 654,
   "metadata": {
    "collapsed": false
   },
   "outputs": [
    {
     "data": {
      "text/plain": [
       "[<matplotlib.lines.Line2D at 0x10b87860>]"
      ]
     },
     "execution_count": 654,
     "metadata": {},
     "output_type": "execute_result"
    },
    {
     "data": {
      "image/png": "[encoded data removed]",
      "text/plain": [
       "<matplotlib.figure.Figure at 0x10b36d30>"
      ]
     },
     "metadata": {},
     "output_type": "display_data"
    }
   ],
   "source": [
    "plt.plot(fpr,tpr)"
   ]
  },
  {
   "cell_type": "code",
   "execution_count": 656,
   "metadata": {
    "collapsed": false
   },
   "outputs": [
    {
     "name": "stdout",
     "output_type": "stream",
     "text": [
      "Площадь под кривой roc 0.97180095456\n"
     ]
    }
   ],
   "source": [
    "print('Площадь под кривой roc',auc(fpr,tpr))"
   ]
  },
  {
   "cell_type": "markdown",
   "metadata": {},
   "source": [
    "\n",
    "**(1 балл)** Теперь найдите, какую точность может иметь данный классификатор, чтобы полнота была не менее 0.8. Аналогично найдите какую максимальную полноту будет иметь классификатор при точности не менее 0.9."
   ]
  },
  {
   "cell_type": "code",
   "execution_count": 598,
   "metadata": {
    "collapsed": false
   },
   "outputs": [],
   "source": [
    "df_prec_rec = pd.DataFrame(prec_rec, columns=['Precision', 'Recall'])"
   ]
  },
  {
   "cell_type": "code",
   "execution_count": 599,
   "metadata": {
    "collapsed": false
   },
   "outputs": [
    {
     "name": "stdout",
     "output_type": "stream",
     "text": [
      "При полноте >=0.8 классификатор может иметь минимальную точность 0.0\n",
      "При полноте >=0.8 классификатор может иметь максимальную точность 0.735632183908\n",
      "При полноте >=0.8 классификатор имеет среднюю точность 0.4366971121781947\n"
     ]
    }
   ],
   "source": [
    "print('При полноте >=0.8 классификатор может иметь минимальную точность',\n",
    "      min(df_prec_rec.ix[df_prec_rec[\"Recall\"]>=0.8].Precision))\n",
    "print('При полноте >=0.8 классификатор может иметь максимальную точность',\n",
    "      max(df_prec_rec.ix[df_prec_rec[\"Recall\"]>=0.8].Precision))\n",
    "print('При полноте >=0.8 классификатор имеет среднюю точность',\n",
    "      df_prec_rec.ix[df_prec_rec[\"Recall\"]>=0.8].Precision.mean())"
   ]
  },
  {
   "cell_type": "code",
   "execution_count": 600,
   "metadata": {
    "collapsed": false
   },
   "outputs": [
    {
     "data": {
      "text/plain": [
       "0.74712643678160917"
      ]
     },
     "execution_count": 600,
     "metadata": {},
     "output_type": "execute_result"
    }
   ],
   "source": [
    "max(df_prec_rec[\"Precision\"])"
   ]
  },
  {
   "cell_type": "markdown",
   "metadata": {},
   "source": [
    "\n",
    "А теперь вернемся к исходной многоклассовой задаче. Как известно, удобство sklearn заключается в том, что вам не нужно делать каких-либо модификаций алгоритмов в многоклассовом случае, так как все уже реализовано внутри библиотеки.\n",
    "\n",
    "**(0.5 балла)** Обучите на исходной обучающей выборке логистическую регрессию. Постройте предсказания для тестовой выборки, используя метод predict. Посчитайте accuracy на тестовой выборке."
   ]
  },
  {
   "cell_type": "code",
   "execution_count": 632,
   "metadata": {
    "collapsed": true
   },
   "outputs": [],
   "source": [
    "LGR = LogisticRegression(C = optim_c) ## при с==1 цифры путаются чаще"
   ]
  },
  {
   "cell_type": "code",
   "execution_count": 624,
   "metadata": {
    "collapsed": false
   },
   "outputs": [
    {
     "data": {
      "text/plain": [
       "LogisticRegression(C=0.01, class_weight=None, dual=False, fit_intercept=True,\n",
       "          intercept_scaling=1, max_iter=100, multi_class='ovr', n_jobs=1,\n",
       "          penalty='l2', random_state=None, solver='liblinear', tol=0.0001,\n",
       "          verbose=0, warm_start=False)"
      ]
     },
     "execution_count": 624,
     "metadata": {},
     "output_type": "execute_result"
    }
   ],
   "source": [
    "LGR.fit(X_train,y_train)"
   ]
  },
  {
   "cell_type": "code",
   "execution_count": 625,
   "metadata": {
    "collapsed": true
   },
   "outputs": [],
   "source": [
    "predict_multi = LGR.predict(X_test)"
   ]
  },
  {
   "cell_type": "code",
   "execution_count": 626,
   "metadata": {
    "collapsed": false
   },
   "outputs": [
    {
     "name": "stdout",
     "output_type": "stream",
     "text": [
      "Доля правильных ответов: 0.958934517203\n"
     ]
    }
   ],
   "source": [
    "print('Доля правильных ответов:',accuracy_score(y_test,LGR.predict(X_test)))"
   ]
  },
  {
   "cell_type": "markdown",
   "metadata": {},
   "source": [
    "\n",
    "**(1.5 балла)** Самое интересное — посмотреть на ошибки классификации. Для этого постройте confusion_matrix. Какие цифры путаются чаще всего между собой? Есть ли цифра, на которой на тестовой выборке классификатор ни разу не ошибся?"
   ]
  },
  {
   "cell_type": "code",
   "execution_count": 627,
   "metadata": {
    "collapsed": false
   },
   "outputs": [
    {
     "data": {
      "text/plain": [
       "array([[88,  0,  0,  0,  1,  0,  0,  0,  0,  0],\n",
       "       [ 0, 82,  0,  2,  0,  1,  1,  0,  5,  0],\n",
       "       [ 0,  1, 88,  0,  0,  0,  0,  0,  0,  0],\n",
       "       [ 0,  0,  0, 87,  0,  2,  0,  0,  2,  1],\n",
       "       [ 0,  1,  0,  0, 88,  0,  0,  1,  1,  0],\n",
       "       [ 1,  0,  1,  0,  0, 88,  1,  0,  0,  0],\n",
       "       [ 0,  1,  0,  0,  0,  1, 88,  0,  1,  0],\n",
       "       [ 0,  0,  0,  0,  1,  0,  0, 88,  0,  1],\n",
       "       [ 0,  4,  1,  1,  0,  0,  0,  0, 80,  1],\n",
       "       [ 0,  1,  0,  1,  0,  1,  0,  0,  0, 87]])"
      ]
     },
     "execution_count": 627,
     "metadata": {},
     "output_type": "execute_result"
    }
   ],
   "source": [
    "confusion_matrix(y_test, predict_multi)"
   ]
  },
  {
   "cell_type": "markdown",
   "metadata": {},
   "source": [
    "Чаще всего путаются 8 и 1. Безошибочно классифицированной цифры нет."
   ]
  },
  {
   "cell_type": "code",
   "execution_count": 631,
   "metadata": {
    "collapsed": false
   },
   "outputs": [
    {
     "data": {
      "text/plain": [
       "<matplotlib.image.AxesImage at 0x106a04a8>"
      ]
     },
     "execution_count": 631,
     "metadata": {},
     "output_type": "execute_result"
    },
    {
     "data": {
      "image/png": "[encoded data removed]",
      "text/plain": [
       "<matplotlib.figure.Figure at 0xf28e4e0>"
      ]
     },
     "metadata": {},
     "output_type": "display_data"
    }
   ],
   "source": [
    "plt.figure(figsize=[10,10])\n",
    "plt.imshow(confusion_matrix(y_test, predict_multi),interpolation='nearest')"
   ]
  }
 ],
 "metadata": {
  "kernelspec": {
   "display_name": "Python 3",
   "language": "python",
   "name": "python3"
  },
  "language_info": {
   "codemirror_mode": {
    "name": "ipython",
    "version": 3
   },
   "file_extension": ".py",
   "mimetype": "text/x-python",
   "name": "python",
   "nbconvert_exporter": "python",
   "pygments_lexer": "ipython3",
   "version": "3.5.1"
  }
 },
 "nbformat": 4,
 "nbformat_minor": 0
}
