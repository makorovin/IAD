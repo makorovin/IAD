{
 "cells": [
  {
   "cell_type": "markdown",
   "metadata": {},
   "source": [
    "# Проект по анализу данных (продолжение)"
   ]
  },
  {
   "cell_type": "markdown",
   "metadata": {},
   "source": [
    "## Определение итоговой оценки студента"
   ]
  },
  {
   "cell_type": "code",
   "execution_count": 2,
   "metadata": {
    "collapsed": false
   },
   "outputs": [],
   "source": [
    "import numpy as np\n",
    "import pandas as pd\n",
    "import scipy as sp\n",
    "import pylab as plt\n",
    "from sklearn.neighbors import KNeighborsRegressor\n",
    "from sklearn.linear_model import Ridge, Lasso, LinearRegression\n",
    "from sklearn.ensemble import RandomForestRegressor\n",
    "from sklearn.grid_search import GridSearchCV\n",
    "from sklearn.cross_validation import KFold, train_test_split, cross_val_score\n",
    "from sklearn.metrics import r2_score\n",
    "%matplotlib inline"
   ]
  },
  {
   "cell_type": "code",
   "execution_count": 3,
   "metadata": {
    "collapsed": true
   },
   "outputs": [],
   "source": [
    "def get_dataset_name(email):\n",
    "    return 'student-mat.csv' if sum(ord(c) for c in email) % 2 else 'student-por.csv'"
   ]
  },
  {
   "cell_type": "code",
   "execution_count": 4,
   "metadata": {
    "collapsed": true
   },
   "outputs": [],
   "source": [
    "email = 'makorovin@edu.hse.ru'"
   ]
  },
  {
   "cell_type": "code",
   "execution_count": 5,
   "metadata": {
    "collapsed": false
   },
   "outputs": [
    {
     "data": {
      "text/plain": [
       "'student-mat.csv'"
      ]
     },
     "execution_count": 5,
     "metadata": {},
     "output_type": "execute_result"
    }
   ],
   "source": [
    "get_dataset_name(email)"
   ]
  },
  {
   "cell_type": "markdown",
   "metadata": {},
   "source": [
    "Для начала загрузите данные. Обратите внимание, чтобы данные были загружены верно (был указан верный разделитель, а так же корректно отображались названия столбцов). Чтобы это проверить, а также посмотреть, что представляют из себя данные, можно вывести первые несколько строк загруженного датасета на экран."
   ]
  },
  {
   "cell_type": "code",
   "execution_count": 6,
   "metadata": {
    "collapsed": true
   },
   "outputs": [],
   "source": [
    "data = pd.read_csv('student-mat.csv', sep = ';')"
   ]
  },
  {
   "cell_type": "code",
   "execution_count": 7,
   "metadata": {
    "collapsed": false
   },
   "outputs": [
    {
     "data": {
      "text/plain": [
       "True"
      ]
     },
     "execution_count": 7,
     "metadata": {},
     "output_type": "execute_result"
    }
   ],
   "source": [
    "data.shape==data.dropna().shape"
   ]
  },
  {
   "cell_type": "code",
   "execution_count": 8,
   "metadata": {
    "collapsed": false
   },
   "outputs": [
    {
     "data": {
      "text/html": [
       "<div>\n",
       "<table border=\"1\" class=\"dataframe\">\n",
       "  <thead>\n",
       "    <tr style=\"text-align: right;\">\n",
       "      <th></th>\n",
       "      <th>school</th>\n",
       "      <th>sex</th>\n",
       "      <th>age</th>\n",
       "      <th>address</th>\n",
       "      <th>famsize</th>\n",
       "      <th>Pstatus</th>\n",
       "      <th>Medu</th>\n",
       "      <th>Fedu</th>\n",
       "      <th>Mjob</th>\n",
       "      <th>Fjob</th>\n",
       "      <th>...</th>\n",
       "      <th>famrel</th>\n",
       "      <th>freetime</th>\n",
       "      <th>goout</th>\n",
       "      <th>Dalc</th>\n",
       "      <th>Walc</th>\n",
       "      <th>health</th>\n",
       "      <th>absences</th>\n",
       "      <th>G1</th>\n",
       "      <th>G2</th>\n",
       "      <th>G3</th>\n",
       "    </tr>\n",
       "  </thead>\n",
       "  <tbody>\n",
       "    <tr>\n",
       "      <th>0</th>\n",
       "      <td>GP</td>\n",
       "      <td>F</td>\n",
       "      <td>18</td>\n",
       "      <td>U</td>\n",
       "      <td>GT3</td>\n",
       "      <td>A</td>\n",
       "      <td>4</td>\n",
       "      <td>4</td>\n",
       "      <td>at_home</td>\n",
       "      <td>teacher</td>\n",
       "      <td>...</td>\n",
       "      <td>4</td>\n",
       "      <td>3</td>\n",
       "      <td>4</td>\n",
       "      <td>1</td>\n",
       "      <td>1</td>\n",
       "      <td>3</td>\n",
       "      <td>6</td>\n",
       "      <td>5</td>\n",
       "      <td>6</td>\n",
       "      <td>6</td>\n",
       "    </tr>\n",
       "    <tr>\n",
       "      <th>1</th>\n",
       "      <td>GP</td>\n",
       "      <td>F</td>\n",
       "      <td>17</td>\n",
       "      <td>U</td>\n",
       "      <td>GT3</td>\n",
       "      <td>T</td>\n",
       "      <td>1</td>\n",
       "      <td>1</td>\n",
       "      <td>at_home</td>\n",
       "      <td>other</td>\n",
       "      <td>...</td>\n",
       "      <td>5</td>\n",
       "      <td>3</td>\n",
       "      <td>3</td>\n",
       "      <td>1</td>\n",
       "      <td>1</td>\n",
       "      <td>3</td>\n",
       "      <td>4</td>\n",
       "      <td>5</td>\n",
       "      <td>5</td>\n",
       "      <td>6</td>\n",
       "    </tr>\n",
       "    <tr>\n",
       "      <th>2</th>\n",
       "      <td>GP</td>\n",
       "      <td>F</td>\n",
       "      <td>15</td>\n",
       "      <td>U</td>\n",
       "      <td>LE3</td>\n",
       "      <td>T</td>\n",
       "      <td>1</td>\n",
       "      <td>1</td>\n",
       "      <td>at_home</td>\n",
       "      <td>other</td>\n",
       "      <td>...</td>\n",
       "      <td>4</td>\n",
       "      <td>3</td>\n",
       "      <td>2</td>\n",
       "      <td>2</td>\n",
       "      <td>3</td>\n",
       "      <td>3</td>\n",
       "      <td>10</td>\n",
       "      <td>7</td>\n",
       "      <td>8</td>\n",
       "      <td>10</td>\n",
       "    </tr>\n",
       "    <tr>\n",
       "      <th>3</th>\n",
       "      <td>GP</td>\n",
       "      <td>F</td>\n",
       "      <td>15</td>\n",
       "      <td>U</td>\n",
       "      <td>GT3</td>\n",
       "      <td>T</td>\n",
       "      <td>4</td>\n",
       "      <td>2</td>\n",
       "      <td>health</td>\n",
       "      <td>services</td>\n",
       "      <td>...</td>\n",
       "      <td>3</td>\n",
       "      <td>2</td>\n",
       "      <td>2</td>\n",
       "      <td>1</td>\n",
       "      <td>1</td>\n",
       "      <td>5</td>\n",
       "      <td>2</td>\n",
       "      <td>15</td>\n",
       "      <td>14</td>\n",
       "      <td>15</td>\n",
       "    </tr>\n",
       "    <tr>\n",
       "      <th>4</th>\n",
       "      <td>GP</td>\n",
       "      <td>F</td>\n",
       "      <td>16</td>\n",
       "      <td>U</td>\n",
       "      <td>GT3</td>\n",
       "      <td>T</td>\n",
       "      <td>3</td>\n",
       "      <td>3</td>\n",
       "      <td>other</td>\n",
       "      <td>other</td>\n",
       "      <td>...</td>\n",
       "      <td>4</td>\n",
       "      <td>3</td>\n",
       "      <td>2</td>\n",
       "      <td>1</td>\n",
       "      <td>2</td>\n",
       "      <td>5</td>\n",
       "      <td>4</td>\n",
       "      <td>6</td>\n",
       "      <td>10</td>\n",
       "      <td>10</td>\n",
       "    </tr>\n",
       "    <tr>\n",
       "      <th>5</th>\n",
       "      <td>GP</td>\n",
       "      <td>M</td>\n",
       "      <td>16</td>\n",
       "      <td>U</td>\n",
       "      <td>LE3</td>\n",
       "      <td>T</td>\n",
       "      <td>4</td>\n",
       "      <td>3</td>\n",
       "      <td>services</td>\n",
       "      <td>other</td>\n",
       "      <td>...</td>\n",
       "      <td>5</td>\n",
       "      <td>4</td>\n",
       "      <td>2</td>\n",
       "      <td>1</td>\n",
       "      <td>2</td>\n",
       "      <td>5</td>\n",
       "      <td>10</td>\n",
       "      <td>15</td>\n",
       "      <td>15</td>\n",
       "      <td>15</td>\n",
       "    </tr>\n",
       "    <tr>\n",
       "      <th>6</th>\n",
       "      <td>GP</td>\n",
       "      <td>M</td>\n",
       "      <td>16</td>\n",
       "      <td>U</td>\n",
       "      <td>LE3</td>\n",
       "      <td>T</td>\n",
       "      <td>2</td>\n",
       "      <td>2</td>\n",
       "      <td>other</td>\n",
       "      <td>other</td>\n",
       "      <td>...</td>\n",
       "      <td>4</td>\n",
       "      <td>4</td>\n",
       "      <td>4</td>\n",
       "      <td>1</td>\n",
       "      <td>1</td>\n",
       "      <td>3</td>\n",
       "      <td>0</td>\n",
       "      <td>12</td>\n",
       "      <td>12</td>\n",
       "      <td>11</td>\n",
       "    </tr>\n",
       "    <tr>\n",
       "      <th>7</th>\n",
       "      <td>GP</td>\n",
       "      <td>F</td>\n",
       "      <td>17</td>\n",
       "      <td>U</td>\n",
       "      <td>GT3</td>\n",
       "      <td>A</td>\n",
       "      <td>4</td>\n",
       "      <td>4</td>\n",
       "      <td>other</td>\n",
       "      <td>teacher</td>\n",
       "      <td>...</td>\n",
       "      <td>4</td>\n",
       "      <td>1</td>\n",
       "      <td>4</td>\n",
       "      <td>1</td>\n",
       "      <td>1</td>\n",
       "      <td>1</td>\n",
       "      <td>6</td>\n",
       "      <td>6</td>\n",
       "      <td>5</td>\n",
       "      <td>6</td>\n",
       "    </tr>\n",
       "    <tr>\n",
       "      <th>8</th>\n",
       "      <td>GP</td>\n",
       "      <td>M</td>\n",
       "      <td>15</td>\n",
       "      <td>U</td>\n",
       "      <td>LE3</td>\n",
       "      <td>A</td>\n",
       "      <td>3</td>\n",
       "      <td>2</td>\n",
       "      <td>services</td>\n",
       "      <td>other</td>\n",
       "      <td>...</td>\n",
       "      <td>4</td>\n",
       "      <td>2</td>\n",
       "      <td>2</td>\n",
       "      <td>1</td>\n",
       "      <td>1</td>\n",
       "      <td>1</td>\n",
       "      <td>0</td>\n",
       "      <td>16</td>\n",
       "      <td>18</td>\n",
       "      <td>19</td>\n",
       "    </tr>\n",
       "    <tr>\n",
       "      <th>9</th>\n",
       "      <td>GP</td>\n",
       "      <td>M</td>\n",
       "      <td>15</td>\n",
       "      <td>U</td>\n",
       "      <td>GT3</td>\n",
       "      <td>T</td>\n",
       "      <td>3</td>\n",
       "      <td>4</td>\n",
       "      <td>other</td>\n",
       "      <td>other</td>\n",
       "      <td>...</td>\n",
       "      <td>5</td>\n",
       "      <td>5</td>\n",
       "      <td>1</td>\n",
       "      <td>1</td>\n",
       "      <td>1</td>\n",
       "      <td>5</td>\n",
       "      <td>0</td>\n",
       "      <td>14</td>\n",
       "      <td>15</td>\n",
       "      <td>15</td>\n",
       "    </tr>\n",
       "  </tbody>\n",
       "</table>\n",
       "<p>10 rows × 33 columns</p>\n",
       "</div>"
      ],
      "text/plain": [
       "  school sex  age address famsize Pstatus  Medu  Fedu      Mjob      Fjob ...  \\\n",
       "0     GP   F   18       U     GT3       A     4     4   at_home   teacher ...   \n",
       "1     GP   F   17       U     GT3       T     1     1   at_home     other ...   \n",
       "2     GP   F   15       U     LE3       T     1     1   at_home     other ...   \n",
       "3     GP   F   15       U     GT3       T     4     2    health  services ...   \n",
       "4     GP   F   16       U     GT3       T     3     3     other     other ...   \n",
       "5     GP   M   16       U     LE3       T     4     3  services     other ...   \n",
       "6     GP   M   16       U     LE3       T     2     2     other     other ...   \n",
       "7     GP   F   17       U     GT3       A     4     4     other   teacher ...   \n",
       "8     GP   M   15       U     LE3       A     3     2  services     other ...   \n",
       "9     GP   M   15       U     GT3       T     3     4     other     other ...   \n",
       "\n",
       "  famrel freetime  goout  Dalc  Walc health absences  G1  G2  G3  \n",
       "0      4        3      4     1     1      3        6   5   6   6  \n",
       "1      5        3      3     1     1      3        4   5   5   6  \n",
       "2      4        3      2     2     3      3       10   7   8  10  \n",
       "3      3        2      2     1     1      5        2  15  14  15  \n",
       "4      4        3      2     1     2      5        4   6  10  10  \n",
       "5      5        4      2     1     2      5       10  15  15  15  \n",
       "6      4        4      4     1     1      3        0  12  12  11  \n",
       "7      4        1      4     1     1      1        6   6   5   6  \n",
       "8      4        2      2     1     1      1        0  16  18  19  \n",
       "9      5        5      1     1     1      5        0  14  15  15  \n",
       "\n",
       "[10 rows x 33 columns]"
      ]
     },
     "execution_count": 8,
     "metadata": {},
     "output_type": "execute_result"
    }
   ],
   "source": [
    "data.head(10)"
   ]
  },
  {
   "cell_type": "markdown",
   "metadata": {},
   "source": [
    "#### Разделите признаки и целевую зависимость в две отдельные переменные X и y."
   ]
  },
  {
   "cell_type": "code",
   "execution_count": 9,
   "metadata": {
    "collapsed": true
   },
   "outputs": [],
   "source": [
    "y = data.G3"
   ]
  },
  {
   "cell_type": "code",
   "execution_count": 10,
   "metadata": {
    "collapsed": false
   },
   "outputs": [],
   "source": [
    "X = data[data.columns[:-1]]"
   ]
  },
  {
   "cell_type": "markdown",
   "metadata": {},
   "source": [
    "#### Создайте две новых матрицы с признаками: в первой будут только числовые признаки, во второй — все остальные. Для этого удобно воспользоваться методом датафрейма select_dtypes."
   ]
  },
  {
   "cell_type": "code",
   "execution_count": 48,
   "metadata": {
    "collapsed": false
   },
   "outputs": [
    {
     "data": {
      "text/html": [
       "<div>\n",
       "<table border=\"1\" class=\"dataframe\">\n",
       "  <thead>\n",
       "    <tr style=\"text-align: right;\">\n",
       "      <th></th>\n",
       "      <th>age</th>\n",
       "      <th>Medu</th>\n",
       "      <th>Fedu</th>\n",
       "      <th>traveltime</th>\n",
       "      <th>studytime</th>\n",
       "      <th>failures</th>\n",
       "      <th>famrel</th>\n",
       "      <th>freetime</th>\n",
       "      <th>goout</th>\n",
       "      <th>Dalc</th>\n",
       "      <th>Walc</th>\n",
       "      <th>health</th>\n",
       "      <th>absences</th>\n",
       "      <th>G1</th>\n",
       "      <th>G2</th>\n",
       "    </tr>\n",
       "  </thead>\n",
       "  <tbody>\n",
       "    <tr>\n",
       "      <th>0</th>\n",
       "      <td>18</td>\n",
       "      <td>4</td>\n",
       "      <td>4</td>\n",
       "      <td>2</td>\n",
       "      <td>2</td>\n",
       "      <td>0</td>\n",
       "      <td>4</td>\n",
       "      <td>3</td>\n",
       "      <td>4</td>\n",
       "      <td>1</td>\n",
       "      <td>1</td>\n",
       "      <td>3</td>\n",
       "      <td>6</td>\n",
       "      <td>5</td>\n",
       "      <td>6</td>\n",
       "    </tr>\n",
       "    <tr>\n",
       "      <th>1</th>\n",
       "      <td>17</td>\n",
       "      <td>1</td>\n",
       "      <td>1</td>\n",
       "      <td>1</td>\n",
       "      <td>2</td>\n",
       "      <td>0</td>\n",
       "      <td>5</td>\n",
       "      <td>3</td>\n",
       "      <td>3</td>\n",
       "      <td>1</td>\n",
       "      <td>1</td>\n",
       "      <td>3</td>\n",
       "      <td>4</td>\n",
       "      <td>5</td>\n",
       "      <td>5</td>\n",
       "    </tr>\n",
       "    <tr>\n",
       "      <th>2</th>\n",
       "      <td>15</td>\n",
       "      <td>1</td>\n",
       "      <td>1</td>\n",
       "      <td>1</td>\n",
       "      <td>2</td>\n",
       "      <td>3</td>\n",
       "      <td>4</td>\n",
       "      <td>3</td>\n",
       "      <td>2</td>\n",
       "      <td>2</td>\n",
       "      <td>3</td>\n",
       "      <td>3</td>\n",
       "      <td>10</td>\n",
       "      <td>7</td>\n",
       "      <td>8</td>\n",
       "    </tr>\n",
       "    <tr>\n",
       "      <th>3</th>\n",
       "      <td>15</td>\n",
       "      <td>4</td>\n",
       "      <td>2</td>\n",
       "      <td>1</td>\n",
       "      <td>3</td>\n",
       "      <td>0</td>\n",
       "      <td>3</td>\n",
       "      <td>2</td>\n",
       "      <td>2</td>\n",
       "      <td>1</td>\n",
       "      <td>1</td>\n",
       "      <td>5</td>\n",
       "      <td>2</td>\n",
       "      <td>15</td>\n",
       "      <td>14</td>\n",
       "    </tr>\n",
       "    <tr>\n",
       "      <th>4</th>\n",
       "      <td>16</td>\n",
       "      <td>3</td>\n",
       "      <td>3</td>\n",
       "      <td>1</td>\n",
       "      <td>2</td>\n",
       "      <td>0</td>\n",
       "      <td>4</td>\n",
       "      <td>3</td>\n",
       "      <td>2</td>\n",
       "      <td>1</td>\n",
       "      <td>2</td>\n",
       "      <td>5</td>\n",
       "      <td>4</td>\n",
       "      <td>6</td>\n",
       "      <td>10</td>\n",
       "    </tr>\n",
       "    <tr>\n",
       "      <th>5</th>\n",
       "      <td>16</td>\n",
       "      <td>4</td>\n",
       "      <td>3</td>\n",
       "      <td>1</td>\n",
       "      <td>2</td>\n",
       "      <td>0</td>\n",
       "      <td>5</td>\n",
       "      <td>4</td>\n",
       "      <td>2</td>\n",
       "      <td>1</td>\n",
       "      <td>2</td>\n",
       "      <td>5</td>\n",
       "      <td>10</td>\n",
       "      <td>15</td>\n",
       "      <td>15</td>\n",
       "    </tr>\n",
       "    <tr>\n",
       "      <th>6</th>\n",
       "      <td>16</td>\n",
       "      <td>2</td>\n",
       "      <td>2</td>\n",
       "      <td>1</td>\n",
       "      <td>2</td>\n",
       "      <td>0</td>\n",
       "      <td>4</td>\n",
       "      <td>4</td>\n",
       "      <td>4</td>\n",
       "      <td>1</td>\n",
       "      <td>1</td>\n",
       "      <td>3</td>\n",
       "      <td>0</td>\n",
       "      <td>12</td>\n",
       "      <td>12</td>\n",
       "    </tr>\n",
       "    <tr>\n",
       "      <th>7</th>\n",
       "      <td>17</td>\n",
       "      <td>4</td>\n",
       "      <td>4</td>\n",
       "      <td>2</td>\n",
       "      <td>2</td>\n",
       "      <td>0</td>\n",
       "      <td>4</td>\n",
       "      <td>1</td>\n",
       "      <td>4</td>\n",
       "      <td>1</td>\n",
       "      <td>1</td>\n",
       "      <td>1</td>\n",
       "      <td>6</td>\n",
       "      <td>6</td>\n",
       "      <td>5</td>\n",
       "    </tr>\n",
       "    <tr>\n",
       "      <th>8</th>\n",
       "      <td>15</td>\n",
       "      <td>3</td>\n",
       "      <td>2</td>\n",
       "      <td>1</td>\n",
       "      <td>2</td>\n",
       "      <td>0</td>\n",
       "      <td>4</td>\n",
       "      <td>2</td>\n",
       "      <td>2</td>\n",
       "      <td>1</td>\n",
       "      <td>1</td>\n",
       "      <td>1</td>\n",
       "      <td>0</td>\n",
       "      <td>16</td>\n",
       "      <td>18</td>\n",
       "    </tr>\n",
       "    <tr>\n",
       "      <th>9</th>\n",
       "      <td>15</td>\n",
       "      <td>3</td>\n",
       "      <td>4</td>\n",
       "      <td>1</td>\n",
       "      <td>2</td>\n",
       "      <td>0</td>\n",
       "      <td>5</td>\n",
       "      <td>5</td>\n",
       "      <td>1</td>\n",
       "      <td>1</td>\n",
       "      <td>1</td>\n",
       "      <td>5</td>\n",
       "      <td>0</td>\n",
       "      <td>14</td>\n",
       "      <td>15</td>\n",
       "    </tr>\n",
       "  </tbody>\n",
       "</table>\n",
       "</div>"
      ],
      "text/plain": [
       "   age  Medu  Fedu  traveltime  studytime  failures  famrel  freetime  goout  \\\n",
       "0   18     4     4           2          2         0       4         3      4   \n",
       "1   17     1     1           1          2         0       5         3      3   \n",
       "2   15     1     1           1          2         3       4         3      2   \n",
       "3   15     4     2           1          3         0       3         2      2   \n",
       "4   16     3     3           1          2         0       4         3      2   \n",
       "5   16     4     3           1          2         0       5         4      2   \n",
       "6   16     2     2           1          2         0       4         4      4   \n",
       "7   17     4     4           2          2         0       4         1      4   \n",
       "8   15     3     2           1          2         0       4         2      2   \n",
       "9   15     3     4           1          2         0       5         5      1   \n",
       "\n",
       "   Dalc  Walc  health  absences  G1  G2  \n",
       "0     1     1       3         6   5   6  \n",
       "1     1     1       3         4   5   5  \n",
       "2     2     3       3        10   7   8  \n",
       "3     1     1       5         2  15  14  \n",
       "4     1     2       5         4   6  10  \n",
       "5     1     2       5        10  15  15  \n",
       "6     1     1       3         0  12  12  \n",
       "7     1     1       1         6   6   5  \n",
       "8     1     1       1         0  16  18  \n",
       "9     1     1       5         0  14  15  "
      ]
     },
     "execution_count": 48,
     "metadata": {},
     "output_type": "execute_result"
    }
   ],
   "source": [
    "X_dig = X.select_dtypes(include = ['int64','float64'])\n",
    "X_dig.head(10)"
   ]
  },
  {
   "cell_type": "code",
   "execution_count": 49,
   "metadata": {
    "collapsed": false
   },
   "outputs": [
    {
     "data": {
      "text/html": [
       "<div>\n",
       "<table border=\"1\" class=\"dataframe\">\n",
       "  <thead>\n",
       "    <tr style=\"text-align: right;\">\n",
       "      <th></th>\n",
       "      <th>school</th>\n",
       "      <th>sex</th>\n",
       "      <th>address</th>\n",
       "      <th>famsize</th>\n",
       "      <th>Pstatus</th>\n",
       "      <th>Mjob</th>\n",
       "      <th>Fjob</th>\n",
       "      <th>reason</th>\n",
       "      <th>guardian</th>\n",
       "      <th>schoolsup</th>\n",
       "      <th>famsup</th>\n",
       "      <th>paid</th>\n",
       "      <th>activities</th>\n",
       "      <th>nursery</th>\n",
       "      <th>higher</th>\n",
       "      <th>internet</th>\n",
       "      <th>romantic</th>\n",
       "    </tr>\n",
       "  </thead>\n",
       "  <tbody>\n",
       "    <tr>\n",
       "      <th>0</th>\n",
       "      <td>GP</td>\n",
       "      <td>F</td>\n",
       "      <td>U</td>\n",
       "      <td>GT3</td>\n",
       "      <td>A</td>\n",
       "      <td>at_home</td>\n",
       "      <td>teacher</td>\n",
       "      <td>course</td>\n",
       "      <td>mother</td>\n",
       "      <td>yes</td>\n",
       "      <td>no</td>\n",
       "      <td>no</td>\n",
       "      <td>no</td>\n",
       "      <td>yes</td>\n",
       "      <td>yes</td>\n",
       "      <td>no</td>\n",
       "      <td>no</td>\n",
       "    </tr>\n",
       "    <tr>\n",
       "      <th>1</th>\n",
       "      <td>GP</td>\n",
       "      <td>F</td>\n",
       "      <td>U</td>\n",
       "      <td>GT3</td>\n",
       "      <td>T</td>\n",
       "      <td>at_home</td>\n",
       "      <td>other</td>\n",
       "      <td>course</td>\n",
       "      <td>father</td>\n",
       "      <td>no</td>\n",
       "      <td>yes</td>\n",
       "      <td>no</td>\n",
       "      <td>no</td>\n",
       "      <td>no</td>\n",
       "      <td>yes</td>\n",
       "      <td>yes</td>\n",
       "      <td>no</td>\n",
       "    </tr>\n",
       "    <tr>\n",
       "      <th>2</th>\n",
       "      <td>GP</td>\n",
       "      <td>F</td>\n",
       "      <td>U</td>\n",
       "      <td>LE3</td>\n",
       "      <td>T</td>\n",
       "      <td>at_home</td>\n",
       "      <td>other</td>\n",
       "      <td>other</td>\n",
       "      <td>mother</td>\n",
       "      <td>yes</td>\n",
       "      <td>no</td>\n",
       "      <td>yes</td>\n",
       "      <td>no</td>\n",
       "      <td>yes</td>\n",
       "      <td>yes</td>\n",
       "      <td>yes</td>\n",
       "      <td>no</td>\n",
       "    </tr>\n",
       "    <tr>\n",
       "      <th>3</th>\n",
       "      <td>GP</td>\n",
       "      <td>F</td>\n",
       "      <td>U</td>\n",
       "      <td>GT3</td>\n",
       "      <td>T</td>\n",
       "      <td>health</td>\n",
       "      <td>services</td>\n",
       "      <td>home</td>\n",
       "      <td>mother</td>\n",
       "      <td>no</td>\n",
       "      <td>yes</td>\n",
       "      <td>yes</td>\n",
       "      <td>yes</td>\n",
       "      <td>yes</td>\n",
       "      <td>yes</td>\n",
       "      <td>yes</td>\n",
       "      <td>yes</td>\n",
       "    </tr>\n",
       "    <tr>\n",
       "      <th>4</th>\n",
       "      <td>GP</td>\n",
       "      <td>F</td>\n",
       "      <td>U</td>\n",
       "      <td>GT3</td>\n",
       "      <td>T</td>\n",
       "      <td>other</td>\n",
       "      <td>other</td>\n",
       "      <td>home</td>\n",
       "      <td>father</td>\n",
       "      <td>no</td>\n",
       "      <td>yes</td>\n",
       "      <td>yes</td>\n",
       "      <td>no</td>\n",
       "      <td>yes</td>\n",
       "      <td>yes</td>\n",
       "      <td>no</td>\n",
       "      <td>no</td>\n",
       "    </tr>\n",
       "  </tbody>\n",
       "</table>\n",
       "</div>"
      ],
      "text/plain": [
       "  school sex address famsize Pstatus     Mjob      Fjob  reason guardian  \\\n",
       "0     GP   F       U     GT3       A  at_home   teacher  course   mother   \n",
       "1     GP   F       U     GT3       T  at_home     other  course   father   \n",
       "2     GP   F       U     LE3       T  at_home     other   other   mother   \n",
       "3     GP   F       U     GT3       T   health  services    home   mother   \n",
       "4     GP   F       U     GT3       T    other     other    home   father   \n",
       "\n",
       "  schoolsup famsup paid activities nursery higher internet romantic  \n",
       "0       yes     no   no         no     yes    yes       no       no  \n",
       "1        no    yes   no         no      no    yes      yes       no  \n",
       "2       yes     no  yes         no     yes    yes      yes       no  \n",
       "3        no    yes  yes        yes     yes    yes      yes      yes  \n",
       "4        no    yes  yes         no     yes    yes       no       no  "
      ]
     },
     "execution_count": 49,
     "metadata": {},
     "output_type": "execute_result"
    }
   ],
   "source": [
    "X_cat = X.select_dtypes(exclude = ['int64','float64'])\n",
    "X_cat.head()"
   ]
  },
  {
   "cell_type": "code",
   "execution_count": 50,
   "metadata": {
    "collapsed": false
   },
   "outputs": [
    {
     "name": "stdout",
     "output_type": "stream",
     "text": [
      "all data processed\n"
     ]
    }
   ],
   "source": [
    "check = [X_cat.shape[1]+X_dig.shape[1]==X.shape[1],X_cat.shape[0]==X_dig.shape[0]==data.shape[0]]\n",
    "if check[0] and check[1]:\n",
    "    print('all data processed')"
   ]
  },
  {
   "cell_type": "markdown",
   "metadata": {},
   "source": [
    "##### Наиболее коррелирующие с целевой переменной"
   ]
  },
  {
   "cell_type": "code",
   "execution_count": 51,
   "metadata": {
    "collapsed": false
   },
   "outputs": [
    {
     "data": {
      "image/png": "[encoded data removed]",
      "text/plain": [
       "<matplotlib.figure.Figure at 0xc47e048>"
      ]
     },
     "metadata": {},
     "output_type": "display_data"
    },
    {
     "data": {
      "image/png": "[encoded data removed]",
      "text/plain": [
       "<matplotlib.figure.Figure at 0x62b8978>"
      ]
     },
     "metadata": {},
     "output_type": "display_data"
    }
   ],
   "source": [
    "for col_num in range(len(X_dig.columns)):\n",
    "    col_name = X_dig.columns[col_num]\n",
    "    pir_coef = np.corrcoef(X_dig[col_name], y)[1][0]\n",
    "    if abs(pir_coef)>=0.5:\n",
    "        plt.figure()\n",
    "        plt.scatter(X_dig[col_name],y)\n",
    "        plt.title(pir_coef)\n",
    "        plt.ylabel('G3')\n",
    "        plt.xlabel(col_name)"
   ]
  },
  {
   "cell_type": "markdown",
   "metadata": {},
   "source": [
    "##### Мультиколлинеарность"
   ]
  },
  {
   "cell_type": "markdown",
   "metadata": {},
   "source": [
    "Убираем коррелирующие между собой признаки исходя из величины их корреляции с целевой переменной - остается признак с наивысшим коэффициентом корреляции с целевой переменной"
   ]
  },
  {
   "cell_type": "code",
   "execution_count": 52,
   "metadata": {
    "collapsed": false
   },
   "outputs": [
    {
     "name": "stdout",
     "output_type": "stream",
     "text": [
      "Было признаков: 15\n",
      "Стало признаков: 12\n"
     ]
    },
    {
     "data": {
      "image/png": "[encoded data removed]",
      "text/plain": [
       "<matplotlib.figure.Figure at 0xc3cbe80>"
      ]
     },
     "metadata": {},
     "output_type": "display_data"
    },
    {
     "data": {
      "image/png": "[encoded data removed]",
      "text/plain": [
       "<matplotlib.figure.Figure at 0x6193f28>"
      ]
     },
     "metadata": {},
     "output_type": "display_data"
    },
    {
     "data": {
      "image/png": "[encoded data removed]",
      "text/plain": [
       "<matplotlib.figure.Figure at 0x61e1908>"
      ]
     },
     "metadata": {},
     "output_type": "display_data"
    }
   ],
   "source": [
    "Multicorr = np.corrcoef(X_dig.transpose())\n",
    "corr_feat = []\n",
    "for feature_num1 in range(Multicorr.shape[0]):\n",
    "    for feature_num2 in range(Multicorr.shape[0]):\n",
    "        pirr_coef = Multicorr[feature_num1][feature_num2]\n",
    "        if abs(pirr_coef)>=0.5 and feature_num1<feature_num2:# < for one half of the coefs matrix\n",
    "            feature_name1 = X_dig.columns[feature_num1]\n",
    "            feature_name2 = X_dig.columns[feature_num2]\n",
    "            plt.figure()\n",
    "            plt.scatter(X_dig[feature_name1],X_dig[feature_name2])\n",
    "            plt.title(pirr_coef)\n",
    "            plt.ylabel(X_dig.columns[feature_num2])\n",
    "            plt.xlabel(X_dig.columns[feature_num1])\n",
    "            if X_dig.corrwith(y)[feature_name1]>=X_dig.corrwith(y)[feature_name2]:\n",
    "                corr_feat.append(feature_name2)\n",
    "            else:\n",
    "                corr_feat.append(feature_name1)\n",
    "print('Было признаков:',len(X_dig.columns))\n",
    "X_dig = X_dig.drop(corr_feat, axis=1)\n",
    "print('Стало признаков:',len(X_dig.columns))"
   ]
  },
  {
   "cell_type": "markdown",
   "metadata": {},
   "source": [
    "### Обучение моделей\n",
    "- линейная регрессия LinearRegression\n",
    "- регуляризованная линейная регрессия Ridge и Lasso\n",
    "- случайный лес RandomForest со 100 деревьями\n",
    "- метод ближайших соседей KNeighborsRegressor"
   ]
  },
  {
   "cell_type": "markdown",
   "metadata": {},
   "source": [
    "Для ценки эффективности выбрана метрика r2_score"
   ]
  },
  {
   "cell_type": "markdown",
   "metadata": {},
   "source": [
    "### Только числовые признаки"
   ]
  },
  {
   "cell_type": "markdown",
   "metadata": {},
   "source": [
    "##### Простая линейная регрессия"
   ]
  },
  {
   "cell_type": "code",
   "execution_count": 53,
   "metadata": {
    "collapsed": false
   },
   "outputs": [],
   "source": [
    "X_dig_train, X_dig_test, y_train, y_test = train_test_split(X_dig, y, test_size = 0.3)"
   ]
  },
  {
   "cell_type": "code",
   "execution_count": 54,
   "metadata": {
    "collapsed": false
   },
   "outputs": [
    {
     "name": "stdout",
     "output_type": "stream",
     "text": [
      "R2 with one random train - test split is: 0.731398348468\n"
     ]
    }
   ],
   "source": [
    "LNR = LinearRegression()\n",
    "LNR.fit(X_dig_train, y_train)\n",
    "print('R2 with one random train - test split is:',r2_score(LNR.predict(X_dig_test), y_test))"
   ]
  },
  {
   "cell_type": "code",
   "execution_count": 55,
   "metadata": {
    "collapsed": false
   },
   "outputs": [
    {
     "name": "stdout",
     "output_type": "stream",
     "text": [
      "R2 max with 10000 iters: 0.918439374576\n",
      "R2 min with 10000 iters: 0.301216303252\n",
      "R2 mean with 10000 iters: 0.775959601588\n",
      "coef max with 10000 iters: 1.15383459606\n",
      "Wall time: 24 s\n"
     ]
    }
   ],
   "source": [
    "%%time\n",
    "r2_mean = 0\n",
    "r2_max = 0\n",
    "r2_min = 1\n",
    "coef_max = 0\n",
    "for i in range(10000):\n",
    "    X_dig_train, X_dig_test, y_train, y_test = train_test_split(X_dig, y, test_size = 0.3)\n",
    "    LNR = LinearRegression()\n",
    "    LNR.fit(X_dig_train, y_train)\n",
    "    r2_current = r2_score(LNR.predict(X_dig_test), y_test)\n",
    "    r2_mean+=r2_current/10000\n",
    "    coef = max(LNR.coef_)\n",
    "    if coef>coef_max:\n",
    "        coef_max=coef\n",
    "    if r2_current<r2_min:\n",
    "        r2_min = r2_current\n",
    "    elif r2_current>r2_max:\n",
    "        r2_max = r2_current\n",
    "print('R2 max with 10000 iters:',r2_max)\n",
    "print('R2 min with 10000 iters:',r2_min)\n",
    "print('R2 mean with 10000 iters:',r2_mean)\n",
    "print('coef max with 10000 iters:',coef_max)"
   ]
  },
  {
   "cell_type": "markdown",
   "metadata": {},
   "source": [
    "#### (4 балла) Подберите оптимальные значения гиперпараметров для указанных выше моделей."
   ]
  },
  {
   "cell_type": "markdown",
   "metadata": {},
   "source": [
    "##### Остальные модели\n",
    "- регуляризованная линейную регрессия Ridge и Lasso\n",
    "- случайный лес RandomForest со 100 деревьями\n",
    "- метод ближайших соседей KNeighborsRegressor"
   ]
  },
  {
   "cell_type": "markdown",
   "metadata": {},
   "source": [
    "###### Подбор гиперпараметров с помощью кросс-валидации без перетасовывания (shuffle)"
   ]
  },
  {
   "cell_type": "code",
   "execution_count": 56,
   "metadata": {
    "collapsed": true
   },
   "outputs": [],
   "source": [
    "R, L, LNR, RFR, KNR  = Ridge(), Lasso(), LinearRegression(),RandomForestRegressor(), KNeighborsRegressor()\n",
    "kfold = KFold(X.shape[0],5,shuffle=False)\n",
    "model_dict = {R:'alpha',L:'alpha',RFR:'max_depth', KNR:'n_neighbors'}"
   ]
  },
  {
   "cell_type": "code",
   "execution_count": 57,
   "metadata": {
    "collapsed": false
   },
   "outputs": [
    {
     "name": "stdout",
     "output_type": "stream",
     "text": [
      "RandomForestRegressor Best parameter \"max_depth\" value: 132\n",
      " R2 value is: 0.869673227025\n",
      "Lasso Best parameter \"alpha\" value: 1\n",
      " R2 value is: 0.809513098774\n",
      "KNeighborsRegressor Best parameter \"n_neighbors\" value: 8\n",
      " R2 value is: 0.826281901749\n",
      "Ridge Best parameter \"alpha\" value: 186\n",
      " R2 value is: 0.812559660554\n"
     ]
    }
   ],
   "source": [
    "best_param_dict = {}\n",
    "for model in model_dict:\n",
    "    ## alpha for Lasso is to be >0 so as for RNR,KNR\n",
    "    Grids = GridSearchCV(estimator=model, param_grid={model_dict[model]:[i+1 for i in range(200)]}, scoring='r2', cv = kfold)\n",
    "    Grids.fit(X_dig,y)\n",
    "    best_param_dict[str(model).split('(')[0]] = Grids.best_params_[model_dict[model]]\n",
    "    print(str(model).split('(')[0], 'Best parameter \"%s\" value: %d\\n' % \n",
    "          (model_dict[model],Grids.best_params_[model_dict[model]]),'R2 value is:', Grids.best_score_)"
   ]
  },
  {
   "cell_type": "code",
   "execution_count": 58,
   "metadata": {
    "collapsed": false
   },
   "outputs": [
    {
     "data": {
      "text/plain": [
       "{'KNeighborsRegressor': 8,\n",
       " 'Lasso': 1,\n",
       " 'RandomForestRegressor': 132,\n",
       " 'Ridge': 186}"
      ]
     },
     "execution_count": 58,
     "metadata": {},
     "output_type": "execute_result"
    }
   ],
   "source": [
    "best_param_dict"
   ]
  },
  {
   "cell_type": "markdown",
   "metadata": {},
   "source": [
    "###### Подбор гиперпараметров с помощью кросс-валидации с перетасовыванием"
   ]
  },
  {
   "cell_type": "code",
   "execution_count": 61,
   "metadata": {
    "collapsed": true
   },
   "outputs": [],
   "source": [
    "kfold = KFold(X.shape[0],5,shuffle=True)"
   ]
  },
  {
   "cell_type": "code",
   "execution_count": 62,
   "metadata": {
    "collapsed": false
   },
   "outputs": [
    {
     "name": "stdout",
     "output_type": "stream",
     "text": [
      "RandomForestRegressor Best parameter \"max_depth\" value: 24\n",
      " R2 value is: 0.892301714863\n",
      "Lasso Best parameter \"alpha\" value: 1\n",
      " R2 value is: 0.815855435368\n",
      "KNeighborsRegressor Best parameter \"n_neighbors\" value: 5\n",
      " R2 value is: 0.857153092269\n",
      "Ridge Best parameter \"alpha\" value: 139\n",
      " R2 value is: 0.821661345397\n"
     ]
    }
   ],
   "source": [
    "for model in model_dict:\n",
    "    Grids = GridSearchCV(estimator=model, param_grid={model_dict[model]:[i+1 for i in range(200)]}, scoring='r2', cv = kfold)\n",
    "    Grids.fit(X_dig,y)\n",
    "    print(str(model).split('(')[0], 'Best parameter \"%s\" value: %d\\n' % \n",
    "          (model_dict[model],Grids.best_params_[model_dict[model]]),'R2 value is:', Grids.best_score_)"
   ]
  },
  {
   "cell_type": "markdown",
   "metadata": {},
   "source": [
    "#### (2 балла) Теперь измерьте качество на кросс-валидации для каждой модели с оптимальными параметрами. Для этого удобно воспользоваться функцией cross_val_score, имеющую параметры, аналогичные GridSearchCV."
   ]
  },
  {
   "cell_type": "code",
   "execution_count": 63,
   "metadata": {
    "collapsed": false
   },
   "outputs": [],
   "source": [
    "R, L  = Ridge(alpha=best_param_dict['Ridge']), Lasso(alpha=best_param_dict['Lasso'])\n",
    "RFR = RandomForestRegressor(max_depth=best_param_dict['RandomForestRegressor'])\n",
    "KNR = KNeighborsRegressor(n_neighbors=best_param_dict['KNeighborsRegressor'])\n",
    "kfold = KFold(X.shape[0],5,shuffle=False)\n",
    "model_dict = {R:'alpha',L:'alpha',RFR:'max_depth', KNR:'n_neighbors'}"
   ]
  },
  {
   "cell_type": "code",
   "execution_count": 85,
   "metadata": {
    "collapsed": false
   },
   "outputs": [
    {
     "name": "stdout",
     "output_type": "stream",
     "text": [
      "Ridge\n",
      "   list of r2 for different folds [ 0.86789388  0.90466178  0.81921536  0.76284838  0.70817889]\n",
      "   r2 mean: 0.812559660554\n",
      "KNeighborsRegressor\n",
      "   list of r2 for different folds [ 0.80906321  0.90421378  0.80155013  0.83969031  0.77689209]\n",
      "   r2 mean: 0.826281901749\n",
      "Lasso\n",
      "   list of r2 for different folds [ 0.87728768  0.89928038  0.82758388  0.74925383  0.69415972]\n",
      "   r2 mean: 0.809513098774\n",
      "RandomForestRegressor\n",
      "   list of r2 for different folds [ 0.68727699  0.86170518  0.86420784  0.8923674   0.82056387]\n",
      "   r2 mean: 0.825224258466\n"
     ]
    }
   ],
   "source": [
    "r2_dig_dict = {}\n",
    "for model in model_dict:\n",
    "    cvs = cross_val_score(model, X_dig, y, scoring='r2', cv = kfold)\n",
    "    r2_dig_dict[str(model).split('(')[0]] = cvs.mean()\n",
    "    print(str(model).split('(')[0])\n",
    "    print('   list of r2 for different folds',cvs)\n",
    "    print('   r2 mean:', cvs.mean())"
   ]
  },
  {
   "cell_type": "code",
   "execution_count": 91,
   "metadata": {
    "collapsed": false
   },
   "outputs": [
    {
     "data": {
      "text/plain": [
       "[('KNeighborsRegressor', 0.82628190174922855),\n",
       " ('RandomForestRegressor', 0.82522425846607084),\n",
       " ('Ridge', 0.81255966055357742),\n",
       " ('Lasso', 0.80951309877351496)]"
      ]
     },
     "execution_count": 91,
     "metadata": {},
     "output_type": "execute_result"
    }
   ],
   "source": [
    "r2_dig_tuplel = sorted(r2_dig_dict.items(), key = lambda s:s[1], reverse = True)\n",
    "r2_dig_tuplel"
   ]
  },
  {
   "cell_type": "markdown",
   "metadata": {},
   "source": [
    "В RandomForest заложен случайный выбор признаков, на основе которых происходит разбиение вершин, поэтому различна оценка r2 при многократном запуске, причем в одном случае эта оценка выше, чем у остальных моделей, в других - ниже"
   ]
  },
  {
   "cell_type": "code",
   "execution_count": 76,
   "metadata": {
    "collapsed": false
   },
   "outputs": [
    {
     "name": "stdout",
     "output_type": "stream",
     "text": [
      "R2 max with 10000 iters: 0.869308256924\n",
      "R2 min with 10000 iters: 0.77872277447\n",
      "R2 mean with 10000 iters: 0.826714739646\n",
      "Wall time: 1min 11s\n"
     ]
    }
   ],
   "source": [
    "%%time\n",
    "r2_mean = 0\n",
    "r2_max = 0\n",
    "r2_min = 1\n",
    "r2_list = []\n",
    "for i in range(1000):\n",
    "    cvs = cross_val_score(RFR, X_dig, y, scoring='r2', cv = kfold)\n",
    "    r2_current = cvs.mean()\n",
    "    r2_mean += r2_current/1000\n",
    "    r2_list.extend(cvs)\n",
    "    if r2_current<r2_min:\n",
    "        r2_min = r2_current\n",
    "    elif r2_current>r2_max:\n",
    "        r2_max = r2_current\n",
    "r2_dig_dict['RandomForestRegressor'] = r2_mean\n",
    "print('R2 max with 10000 iters:',r2_max)\n",
    "print('R2 min with 10000 iters:',r2_min)\n",
    "print('R2 mean with 10000 iters:',r2_mean)"
   ]
  },
  {
   "cell_type": "code",
   "execution_count": 92,
   "metadata": {
    "collapsed": false
   },
   "outputs": [
    {
     "data": {
      "text/plain": [
       "<matplotlib.legend.Legend at 0x6268588>"
      ]
     },
     "execution_count": 92,
     "metadata": {},
     "output_type": "execute_result"
    },
    {
     "data": {
      "image/png": "[encoded data removed]",
      "text/plain": [
       "<matplotlib.figure.Figure at 0x624a400>"
      ]
     },
     "metadata": {},
     "output_type": "display_data"
    }
   ],
   "source": [
    "plt.hist(r2_list)\n",
    "plt.vlines(max([i[1] for i in r2_dig_tuplel if not 'RandomForestRegressor' in i]),0,1600, colors='r')\n",
    "plt.vlines(r2_mean,0,1600, colors='y')\n",
    "plt.title('r2 distribution for RFR')\n",
    "plt.legend(['highest r2 among other models','r2 mean RFR'], loc = 2)"
   ]
  },
  {
   "cell_type": "markdown",
   "metadata": {},
   "source": [
    "В среднем, Случайный лес оказывается незначительно более эффективным"
   ]
  },
  {
   "cell_type": "code",
   "execution_count": 93,
   "metadata": {
    "collapsed": true
   },
   "outputs": [],
   "source": [
    "from scipy.stats import ttest_1samp"
   ]
  },
  {
   "cell_type": "code",
   "execution_count": 105,
   "metadata": {
    "collapsed": false
   },
   "outputs": [
    {
     "data": {
      "text/plain": [
       "Ttest_1sampResult(statistic=0.6428740048757039, pvalue=0.5203353427106554)"
      ]
     },
     "execution_count": 105,
     "metadata": {},
     "output_type": "execute_result"
    }
   ],
   "source": [
    "ttest = ttest_1samp(r2_list, max([i[1] for i in r2_dig_tuplel if not 'RandomForestRegressor' in i]))\n",
    "ttest"
   ]
  },
  {
   "cell_type": "code",
   "execution_count": 107,
   "metadata": {
    "collapsed": false
   },
   "outputs": [
    {
     "name": "stdout",
     "output_type": "stream",
     "text": [
      "Модели RFR и Kmean в среднем работают одинаково\n"
     ]
    }
   ],
   "source": [
    "if ttest[1]>=0.05:\n",
    "    print('Модели RFR и Kmean в среднем работают одинаково')\n",
    "else:\n",
    "    print('Модель RFR в среднем работает лучше')"
   ]
  },
  {
   "cell_type": "markdown",
   "metadata": {},
   "source": [
    "#### (1 балл) Вернемся к отложенной матрице категориальных признаков. Так как алгоритмы не умеют работать со строковыми данными, преобразуйте их с помощью функции get_dummies в числовую матрицу, где значение каждого признака будет закодировано как бинарное. Сколько признаков теперь получилось?"
   ]
  },
  {
   "cell_type": "code",
   "execution_count": 108,
   "metadata": {
    "collapsed": false
   },
   "outputs": [
    {
     "data": {
      "text/html": [
       "<div>\n",
       "<table border=\"1\" class=\"dataframe\">\n",
       "  <thead>\n",
       "    <tr style=\"text-align: right;\">\n",
       "      <th></th>\n",
       "      <th>school_GP</th>\n",
       "      <th>school_MS</th>\n",
       "      <th>sex_F</th>\n",
       "      <th>sex_M</th>\n",
       "      <th>address_R</th>\n",
       "      <th>address_U</th>\n",
       "      <th>famsize_GT3</th>\n",
       "      <th>famsize_LE3</th>\n",
       "      <th>Pstatus_A</th>\n",
       "      <th>Pstatus_T</th>\n",
       "      <th>...</th>\n",
       "      <th>activities_no</th>\n",
       "      <th>activities_yes</th>\n",
       "      <th>nursery_no</th>\n",
       "      <th>nursery_yes</th>\n",
       "      <th>higher_no</th>\n",
       "      <th>higher_yes</th>\n",
       "      <th>internet_no</th>\n",
       "      <th>internet_yes</th>\n",
       "      <th>romantic_no</th>\n",
       "      <th>romantic_yes</th>\n",
       "    </tr>\n",
       "  </thead>\n",
       "  <tbody>\n",
       "    <tr>\n",
       "      <th>0</th>\n",
       "      <td>1.0</td>\n",
       "      <td>0.0</td>\n",
       "      <td>1.0</td>\n",
       "      <td>0.0</td>\n",
       "      <td>0.0</td>\n",
       "      <td>1.0</td>\n",
       "      <td>1.0</td>\n",
       "      <td>0.0</td>\n",
       "      <td>1.0</td>\n",
       "      <td>0.0</td>\n",
       "      <td>...</td>\n",
       "      <td>1.0</td>\n",
       "      <td>0.0</td>\n",
       "      <td>0.0</td>\n",
       "      <td>1.0</td>\n",
       "      <td>0.0</td>\n",
       "      <td>1.0</td>\n",
       "      <td>1.0</td>\n",
       "      <td>0.0</td>\n",
       "      <td>1.0</td>\n",
       "      <td>0.0</td>\n",
       "    </tr>\n",
       "    <tr>\n",
       "      <th>1</th>\n",
       "      <td>1.0</td>\n",
       "      <td>0.0</td>\n",
       "      <td>1.0</td>\n",
       "      <td>0.0</td>\n",
       "      <td>0.0</td>\n",
       "      <td>1.0</td>\n",
       "      <td>1.0</td>\n",
       "      <td>0.0</td>\n",
       "      <td>0.0</td>\n",
       "      <td>1.0</td>\n",
       "      <td>...</td>\n",
       "      <td>1.0</td>\n",
       "      <td>0.0</td>\n",
       "      <td>1.0</td>\n",
       "      <td>0.0</td>\n",
       "      <td>0.0</td>\n",
       "      <td>1.0</td>\n",
       "      <td>0.0</td>\n",
       "      <td>1.0</td>\n",
       "      <td>1.0</td>\n",
       "      <td>0.0</td>\n",
       "    </tr>\n",
       "    <tr>\n",
       "      <th>2</th>\n",
       "      <td>1.0</td>\n",
       "      <td>0.0</td>\n",
       "      <td>1.0</td>\n",
       "      <td>0.0</td>\n",
       "      <td>0.0</td>\n",
       "      <td>1.0</td>\n",
       "      <td>0.0</td>\n",
       "      <td>1.0</td>\n",
       "      <td>0.0</td>\n",
       "      <td>1.0</td>\n",
       "      <td>...</td>\n",
       "      <td>1.0</td>\n",
       "      <td>0.0</td>\n",
       "      <td>0.0</td>\n",
       "      <td>1.0</td>\n",
       "      <td>0.0</td>\n",
       "      <td>1.0</td>\n",
       "      <td>0.0</td>\n",
       "      <td>1.0</td>\n",
       "      <td>1.0</td>\n",
       "      <td>0.0</td>\n",
       "    </tr>\n",
       "    <tr>\n",
       "      <th>3</th>\n",
       "      <td>1.0</td>\n",
       "      <td>0.0</td>\n",
       "      <td>1.0</td>\n",
       "      <td>0.0</td>\n",
       "      <td>0.0</td>\n",
       "      <td>1.0</td>\n",
       "      <td>1.0</td>\n",
       "      <td>0.0</td>\n",
       "      <td>0.0</td>\n",
       "      <td>1.0</td>\n",
       "      <td>...</td>\n",
       "      <td>0.0</td>\n",
       "      <td>1.0</td>\n",
       "      <td>0.0</td>\n",
       "      <td>1.0</td>\n",
       "      <td>0.0</td>\n",
       "      <td>1.0</td>\n",
       "      <td>0.0</td>\n",
       "      <td>1.0</td>\n",
       "      <td>0.0</td>\n",
       "      <td>1.0</td>\n",
       "    </tr>\n",
       "    <tr>\n",
       "      <th>4</th>\n",
       "      <td>1.0</td>\n",
       "      <td>0.0</td>\n",
       "      <td>1.0</td>\n",
       "      <td>0.0</td>\n",
       "      <td>0.0</td>\n",
       "      <td>1.0</td>\n",
       "      <td>1.0</td>\n",
       "      <td>0.0</td>\n",
       "      <td>0.0</td>\n",
       "      <td>1.0</td>\n",
       "      <td>...</td>\n",
       "      <td>1.0</td>\n",
       "      <td>0.0</td>\n",
       "      <td>0.0</td>\n",
       "      <td>1.0</td>\n",
       "      <td>0.0</td>\n",
       "      <td>1.0</td>\n",
       "      <td>1.0</td>\n",
       "      <td>0.0</td>\n",
       "      <td>1.0</td>\n",
       "      <td>0.0</td>\n",
       "    </tr>\n",
       "  </tbody>\n",
       "</table>\n",
       "<p>5 rows × 43 columns</p>\n",
       "</div>"
      ],
      "text/plain": [
       "   school_GP  school_MS  sex_F  sex_M  address_R  address_U  famsize_GT3  \\\n",
       "0        1.0        0.0    1.0    0.0        0.0        1.0          1.0   \n",
       "1        1.0        0.0    1.0    0.0        0.0        1.0          1.0   \n",
       "2        1.0        0.0    1.0    0.0        0.0        1.0          0.0   \n",
       "3        1.0        0.0    1.0    0.0        0.0        1.0          1.0   \n",
       "4        1.0        0.0    1.0    0.0        0.0        1.0          1.0   \n",
       "\n",
       "   famsize_LE3  Pstatus_A  Pstatus_T      ...       activities_no  \\\n",
       "0          0.0        1.0        0.0      ...                 1.0   \n",
       "1          0.0        0.0        1.0      ...                 1.0   \n",
       "2          1.0        0.0        1.0      ...                 1.0   \n",
       "3          0.0        0.0        1.0      ...                 0.0   \n",
       "4          0.0        0.0        1.0      ...                 1.0   \n",
       "\n",
       "   activities_yes  nursery_no  nursery_yes  higher_no  higher_yes  \\\n",
       "0             0.0         0.0          1.0        0.0         1.0   \n",
       "1             0.0         1.0          0.0        0.0         1.0   \n",
       "2             0.0         0.0          1.0        0.0         1.0   \n",
       "3             1.0         0.0          1.0        0.0         1.0   \n",
       "4             0.0         0.0          1.0        0.0         1.0   \n",
       "\n",
       "   internet_no  internet_yes  romantic_no  romantic_yes  \n",
       "0          1.0           0.0          1.0           0.0  \n",
       "1          0.0           1.0          1.0           0.0  \n",
       "2          0.0           1.0          1.0           0.0  \n",
       "3          0.0           1.0          0.0           1.0  \n",
       "4          1.0           0.0          1.0           0.0  \n",
       "\n",
       "[5 rows x 43 columns]"
      ]
     },
     "execution_count": 108,
     "metadata": {},
     "output_type": "execute_result"
    }
   ],
   "source": [
    "X_cat_dig = pd.get_dummies(X_cat)\n",
    "X_cat_dig.head()"
   ]
  },
  {
   "cell_type": "code",
   "execution_count": 109,
   "metadata": {
    "collapsed": false
   },
   "outputs": [
    {
     "name": "stdout",
     "output_type": "stream",
     "text": [
      "Было признаков: 33\n",
      "Стало признаков: 55\n"
     ]
    }
   ],
   "source": [
    "print('Было признаков:', data.columns.shape[0])\n",
    "XX = pd.concat([X_dig, X_cat_dig], axis = 1)\n",
    "print('Стало признаков:',len(XX.columns))"
   ]
  },
  {
   "cell_type": "markdown",
   "metadata": {},
   "source": [
    "#### (1 балл) Обучите модели с оптимальными параметрами из предыдущего пункта и измерьте качество на полной матрице признаков с помощью функции cross_val_score."
   ]
  },
  {
   "cell_type": "code",
   "execution_count": 110,
   "metadata": {
    "collapsed": false
   },
   "outputs": [
    {
     "name": "stdout",
     "output_type": "stream",
     "text": [
      "R2 max with 10000 iters: 0.925519970183\n",
      "R2 min with 10000 iters: 0.305581390967\n",
      "R2 mean with 10000 iters: 0.77638335404\n",
      "coef max with 10000 iters: 1.16490087067\n",
      "Wall time: 28.5 s\n"
     ]
    }
   ],
   "source": [
    "%%time\n",
    "r2_mean = 0\n",
    "r2_max = 0\n",
    "r2_min = 1\n",
    "coef_max = 0\n",
    "for i in range(10000):\n",
    "    XX_train, XX_test, y_train, y_test = train_test_split(X_dig, y, test_size = 0.3)\n",
    "    LNR = LinearRegression()\n",
    "    LNR.fit(XX_train, y_train)\n",
    "    r2_current = r2_score(LNR.predict(XX_test), y_test)\n",
    "    r2_mean+=r2_current/10000\n",
    "    coef = max(LNR.coef_)\n",
    "    if coef>coef_max:\n",
    "        coef_max=coef\n",
    "    if r2_current<r2_min:\n",
    "        r2_min = r2_current\n",
    "    elif r2_current>r2_max:\n",
    "        r2_max = r2_current\n",
    "print('R2 max with 10000 iters:',r2_max)\n",
    "print('R2 min with 10000 iters:',r2_min)\n",
    "print('R2 mean with 10000 iters:',r2_mean)\n",
    "print('coef max with 10000 iters:',coef_max)"
   ]
  },
  {
   "cell_type": "code",
   "execution_count": 111,
   "metadata": {
    "collapsed": false
   },
   "outputs": [
    {
     "name": "stdout",
     "output_type": "stream",
     "text": [
      "Ridge\n",
      "   list of r2 for different folds [ 0.86555699  0.89864137  0.81607818  0.76543382  0.70749662]\n",
      "   r2 mean: 0.810641394262\n",
      "KNeighborsRegressor\n",
      "   list of r2 for different folds [ 0.80373314  0.87699417  0.81259406  0.83976733  0.74011315]\n",
      "   r2 mean: 0.814640369941\n",
      "Lasso\n",
      "   list of r2 for different folds [ 0.87728768  0.89928038  0.82758388  0.74925383  0.69415972]\n",
      "   r2 mean: 0.809513098774\n",
      "RandomForestRegressor\n",
      "   list of r2 for different folds [ 0.74204396  0.76570813  0.81577089  0.84793283  0.73251581]\n",
      "   r2 mean: 0.7807943246\n"
     ]
    }
   ],
   "source": [
    "r2_XX_dict = {}\n",
    "for model in model_dict:\n",
    "    cvs = cross_val_score(model, XX, y, scoring='r2', cv = kfold)\n",
    "    r2_XX_dict[str(model).split('(')[0]] = cvs.mean()\n",
    "    print(str(model).split('(')[0])\n",
    "    print('   list of r2 for different folds',cvs)\n",
    "    print('   r2 mean:', cvs.mean())"
   ]
  },
  {
   "cell_type": "code",
   "execution_count": 112,
   "metadata": {
    "collapsed": false
   },
   "outputs": [
    {
     "data": {
      "text/plain": [
       "{'KNeighborsRegressor': 0.8146403699405651,\n",
       " 'Lasso': 0.80951309877351496,\n",
       " 'RandomForestRegressor': 0.78079432459950171,\n",
       " 'Ridge': 0.81064139426165949}"
      ]
     },
     "execution_count": 112,
     "metadata": {},
     "output_type": "execute_result"
    }
   ],
   "source": [
    "r2_XX_dict"
   ]
  },
  {
   "cell_type": "code",
   "execution_count": 113,
   "metadata": {
    "collapsed": false
   },
   "outputs": [
    {
     "name": "stdout",
     "output_type": "stream",
     "text": [
      "R2 max with 10000 iters: 0.867668533997\n",
      "R2 min with 10000 iters: 0.783704708005\n",
      "R2 mean with 10000 iters: 0.826354913544\n",
      "Wall time: 1min 12s\n"
     ]
    }
   ],
   "source": [
    "%%time\n",
    "r2_mean = 0\n",
    "r2_max = 0\n",
    "r2_min = 1\n",
    "r2_list = []\n",
    "for i in range(1000):\n",
    "    cvs = cross_val_score(RFR, X_dig, y, scoring='r2', cv = kfold)\n",
    "    r2_current = cvs.mean()\n",
    "    r2_mean += r2_current/1000\n",
    "    r2_list.extend(cvs)\n",
    "    if r2_current<r2_min:\n",
    "        r2_min = r2_current\n",
    "    elif r2_current>r2_max:\n",
    "        r2_max = r2_current\n",
    "r2_XX_dict['RandomForestRegressor'] = r2_mean\n",
    "print('R2 max with 10000 iters:',r2_max)\n",
    "print('R2 min with 10000 iters:',r2_min)\n",
    "print('R2 mean with 10000 iters:',r2_mean)"
   ]
  },
  {
   "cell_type": "code",
   "execution_count": 114,
   "metadata": {
    "collapsed": false
   },
   "outputs": [
    {
     "data": {
      "text/plain": [
       "[('RandomForestRegressor', 0.82635491354396917),\n",
       " ('KNeighborsRegressor', 0.8146403699405651),\n",
       " ('Ridge', 0.81064139426165949),\n",
       " ('Lasso', 0.80951309877351496)]"
      ]
     },
     "execution_count": 114,
     "metadata": {},
     "output_type": "execute_result"
    }
   ],
   "source": [
    "r2_XX_tuplel = sorted(r2_XX_dict.items(), key = lambda s:s[1], reverse = True)\n",
    "r2_XX_tuplel"
   ]
  },
  {
   "cell_type": "code",
   "execution_count": 117,
   "metadata": {
    "collapsed": false
   },
   "outputs": [
    {
     "data": {
      "text/plain": [
       "<matplotlib.legend.Legend at 0x60604e0>"
      ]
     },
     "execution_count": 117,
     "metadata": {},
     "output_type": "execute_result"
    },
    {
     "data": {
      "image/png": "[encoded data removed]",
      "text/plain": [
       "<matplotlib.figure.Figure at 0x61694a8>"
      ]
     },
     "metadata": {},
     "output_type": "display_data"
    }
   ],
   "source": [
    "plt.hist(r2_list)\n",
    "plt.vlines(max([i[1] for i in r2_XX_tuplel if not 'RandomForestRegressor' in i]),0,1600, colors='r')\n",
    "plt.vlines(r2_mean,0,1600, colors='y')\n",
    "plt.title('r2 distribution for RFR')\n",
    "plt.legend(['highest r2 among other models','r2 mean RFR'], loc = 2)"
   ]
  },
  {
   "cell_type": "markdown",
   "metadata": {},
   "source": [
    "#### (2 балла) Ответьте на следующие вопросы:\n",
    "- какая из моделей имеет наилучшее качество в первом случае, а какая — во втором?\n",
    "- есть ли модели, для которых добавление категориальных признаков дало прирост в качестве?\n",
    "- какая из использованных моделей кажется вам наиболее сложной и почему?"
   ]
  },
  {
   "cell_type": "code",
   "execution_count": 118,
   "metadata": {
    "collapsed": false
   },
   "outputs": [
    {
     "data": {
      "text/plain": [
       "[('KNeighborsRegressor', 0.011641531808663452),\n",
       " ('Ridge', 0.0019182662919179361),\n",
       " ('Lasso', 0.0),\n",
       " ('RandomForestRegressor', -0.0011306550778983349)]"
      ]
     },
     "execution_count": 118,
     "metadata": {},
     "output_type": "execute_result"
    }
   ],
   "source": [
    "r2_differ_dict = {}\n",
    "for key in r2_XX_dict:\n",
    "    r2_differ_dict[key] = r2_dig_dict[key] - r2_XX_dict[key]\n",
    "sorted(r2_differ_dict.items(), key = lambda s:s[1], reverse = True)"
   ]
  },
  {
   "cell_type": "markdown",
   "metadata": {},
   "source": [
    " - В обоих случаях наивысшее качество имеет модель случайных лесов\n",
    " - Да, пренебрежимо малый прирост получила модель случайных лесов: 11е-4\n",
    " - Модель случайных лесов, т.к. она требует дополнительных оценок эффективности - распределения метрики качества, при кросс валидации без перемешивания дает случайный ответ из некоторого распределения, которое необходимо оценить"
   ]
  },
  {
   "cell_type": "markdown",
   "metadata": {},
   "source": [
    "#### (1 дополнительный балл) Обучите случайный лес на полной матрице признаков и найдите топ3 наиболее важных признаков. Можно ли дать интерпретацию почему эти признаки оказались наиболее информативными в рамках данной задачи?"
   ]
  },
  {
   "cell_type": "code",
   "execution_count": 119,
   "metadata": {
    "collapsed": false
   },
   "outputs": [
    {
     "name": "stdout",
     "output_type": "stream",
     "text": [
      "TOP 3 important features\n"
     ]
    },
    {
     "data": {
      "text/plain": [
       "[('G2', 0.79487947681503879),\n",
       " ('absences', 0.10750674300051311),\n",
       " ('Walc', 0.013120541488814886)]"
      ]
     },
     "execution_count": 119,
     "metadata": {},
     "output_type": "execute_result"
    }
   ],
   "source": [
    "XX_train, XX_test, y_train, y_test = train_test_split(XX, y, test_size = 0.3)\n",
    "RFR.fit(XX_train,y_train)\n",
    "XX_importance_dict = {}\n",
    "for feature_num in range(len(XX.columns)):\n",
    "    XX_importance_dict[XX.columns[feature_num]] = RFR.feature_importances_[feature_num]\n",
    "print('TOP 3 important features')\n",
    "sorted(XX_importance_dict.items(), key = lambda s:s[1], reverse = True)[:3]"
   ]
  },
  {
   "cell_type": "code",
   "execution_count": 120,
   "metadata": {
    "collapsed": false
   },
   "outputs": [
    {
     "name": "stdout",
     "output_type": "stream",
     "text": [
      "TOP 3 least important features\n"
     ]
    },
    {
     "data": {
      "text/plain": [
       "[('Fjob_at_home', 2.4312039744900676e-05),\n",
       " ('Fjob_health', 1.6179560291138262e-05),\n",
       " ('higher_yes', 0.0)]"
      ]
     },
     "execution_count": 120,
     "metadata": {},
     "output_type": "execute_result"
    }
   ],
   "source": [
    "print('TOP 3 least important features')\n",
    "sorted(XX_importance_dict.items(), key = lambda s:s[1], reverse = True)[-3:]"
   ]
  },
  {
   "cell_type": "code",
   "execution_count": 136,
   "metadata": {
    "collapsed": false
   },
   "outputs": [
    {
     "name": "stdout",
     "output_type": "stream",
     "text": [
      "Средняя оценка самых пьяных студентов 10.142857142857142\n",
      "Средняя редко трезвых студентов 9.686274509803921\n",
      "Средняя умеренно пьющих студентов 10.725\n",
      "Средняя оценка иногда выпивающих студентов 10.08235294117647\n",
      "Средняя оценка непьющих студентов 10.735099337748345\n"
     ]
    }
   ],
   "source": [
    "alco = data[['Walc', 'G3']]\n",
    "print('Средняя оценка самых пьяных студентов',alco.ix[XX.Walc == max(XX.Walc)].G3.mean())\n",
    "print('Средняя редко трезвых студентов',alco.ix[XX.Walc == 4].G3.mean())\n",
    "print('Средняя умеренно пьющих студентов',alco.ix[XX.Walc == 3].G3.mean())\n",
    "print('Средняя оценка иногда выпивающих студентов',alco.ix[XX.Walc == 2].G3.mean())\n",
    "print('Средняя оценка непьющих студентов',alco.ix[XX.Walc == 1].G3.mean())"
   ]
  },
  {
   "cell_type": "code",
   "execution_count": 140,
   "metadata": {
    "collapsed": false
   },
   "outputs": [
    {
     "name": "stdout",
     "output_type": "stream",
     "text": [
      "Коэффициент корреляции G2 и целевой переменной 0.904867989269\n",
      "Коэффициент корреляции absences и целевой переменной 0.0342473161501\n",
      "Коэффициент корреляции Walc и целевой переменной -0.0519393237422\n"
     ]
    }
   ],
   "source": [
    "for top_feat in [tupl[0] for tupl in sorted(XX_importance_dict.items(), key = lambda s:s[1], reverse = True)[:3]]:\n",
    "    print('Коэффициент корреляции %s и целевой переменной' % (top_feat),XX.corrwith(y)[top_feat])"
   ]
  },
  {
   "cell_type": "markdown",
   "metadata": {},
   "source": [
    " - G2 отражает наиболее актуальную информацию об успеваемости и подготовке студентов, поэтому она наиболее весома для определения итоговой оценки \n",
    " - Пропуски(absences) часто влияют на подготовку студентов, чем больше пропусков, тем скорее ниже оценка\n",
    " - Студенты в очень малой части подвержены влиянию уровня употребления алкоголя в неделю, коэффициент корреляции соответствует обратной зависимости между итоговой оценкой и употреблением алкоголя. Чем больше студенты пьют, тем немного хуже они учатся, хотя регулярно пьющим студентам (Walc = 5/5) алкоголь не мешает в среднем учиться лучше студентов, выпивающих лишь изредка (Walc = 2/5), и студентов, выпивающих очень часто(Walc = 4/5). "
   ]
  },
  {
   "cell_type": "code",
   "execution_count": 121,
   "metadata": {
    "collapsed": false
   },
   "outputs": [
    {
     "data": {
      "text/plain": [
       "[('G2', 0.79487947681503879),\n",
       " ('absences', 0.10750674300051311),\n",
       " ('Walc', 0.013120541488814886),\n",
       " ('famrel', 0.010930867887551213),\n",
       " ('health', 0.0084831047521606827),\n",
       " ('famsize_GT3', 0.0068586459075436011),\n",
       " ('schoolsup_no', 0.0068325437875296881),\n",
       " ('goout', 0.005859422674777898),\n",
       " ('freetime', 0.0050328593840084628),\n",
       " ('age', 0.0041615069125016859),\n",
       " ('Medu', 0.0041286924748063893),\n",
       " ('Mjob_health', 0.0041078996529057051),\n",
       " ('failures', 0.0035577811157284423),\n",
       " ('guardian_mother', 0.0027644912772514163),\n",
       " ('traveltime', 0.0017229305605211179),\n",
       " ('schoolsup_yes', 0.0016524476436896556),\n",
       " ('guardian_father', 0.0014872804391288248),\n",
       " ('romantic_yes', 0.0014757437532130304),\n",
       " ('internet_yes', 0.0013055426663470785),\n",
       " ('reason_reputation', 0.0012289984829092202),\n",
       " ('address_R', 0.00091402325744422623),\n",
       " ('famsup_yes', 0.00083137316941760847),\n",
       " ('paid_no', 0.00082601756604298133),\n",
       " ('studytime', 0.00078080156989822022),\n",
       " ('Fjob_other', 0.00073898842895873148),\n",
       " ('Fjob_services', 0.00070444268611461044),\n",
       " ('nursery_yes', 0.00062232838032856206),\n",
       " ('nursery_no', 0.00061053969771155997),\n",
       " ('Mjob_services', 0.00060952112646201558),\n",
       " ('Mjob_teacher', 0.00048756336057378122),\n",
       " ('activities_no', 0.00047980222360563584),\n",
       " ('Mjob_at_home', 0.00045471403232420494),\n",
       " ('reason_course', 0.00041724032836278963),\n",
       " ('Mjob_other', 0.00040352348382684976),\n",
       " ('reason_home', 0.00038992205120321762),\n",
       " ('sex_M', 0.00036162136316714871),\n",
       " ('Pstatus_T', 0.00034688137692685252),\n",
       " ('reason_other', 0.00030562914889094322),\n",
       " ('sex_F', 0.00030262381841120699),\n",
       " ('romantic_no', 0.00030183327152042078),\n",
       " ('higher_no', 0.00024622024863905651),\n",
       " ('Fjob_teacher', 0.00021077331924618595),\n",
       " ('paid_yes', 0.00020897589576634174),\n",
       " ('famsup_no', 0.00019746113845820973),\n",
       " ('activities_yes', 0.00019389209725482283),\n",
       " ('famsize_LE3', 0.00018357489470162896),\n",
       " ('address_U', 0.00015555910791854264),\n",
       " ('school_GP', 0.00014882119082630714),\n",
       " ('school_MS', 0.00013669333818669833),\n",
       " ('internet_no', 0.00011311779887728814),\n",
       " ('Pstatus_A', 9.3227089960619609e-05),\n",
       " ('guardian_other', 8.428126199569333e-05),\n",
       " ('Fjob_at_home', 2.4312039744900676e-05),\n",
       " ('Fjob_health', 1.6179560291138262e-05),\n",
       " ('higher_yes', 0.0)]"
      ]
     },
     "execution_count": 121,
     "metadata": {},
     "output_type": "execute_result"
    }
   ],
   "source": [
    "sorted(XX_importance_dict.items(), key = lambda s:s[1], reverse = True)"
   ]
  }
 ],
 "metadata": {
  "anaconda-cloud": {},
  "kernelspec": {
   "display_name": "Python [default]",
   "language": "python",
   "name": "python3"
  },
  "language_info": {
   "codemirror_mode": {
    "name": "ipython",
    "version": 3
   },
   "file_extension": ".py",
   "mimetype": "text/x-python",
   "name": "python",
   "nbconvert_exporter": "python",
   "pygments_lexer": "ipython3",
   "version": "3.5.2"
  }
 },
 "nbformat": 4,
 "nbformat_minor": 0
}
